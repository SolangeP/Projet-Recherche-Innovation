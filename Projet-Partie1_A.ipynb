{
 "cells": [
  {
   "cell_type": "markdown",
   "metadata": {},
   "source": [
    "<center>\n",
    "<a href=\"http://www.insa-toulouse.fr/\" ><img src=\"http://www.math.univ-toulouse.fr/~besse/Wikistat/Images/logo-insa.jpg\" style=\"float:left; max-width: 120px; display: inline\" alt=\"INSA\"/></a> \n",
    "\n",
    "<a href=\"http://wikistat.fr/\" ><img src=\"http://www.math.univ-toulouse.fr/~besse/Wikistat/Images/wikistat.jpg\" style=\"float:right; max-width: 250px; display: inline\"  alt=\"Wikistat\"/></a>\n",
    "\n",
    "</center>"
   ]
  },
  {
   "cell_type": "markdown",
   "metadata": {},
   "source": [
    "# Projet Recherche et Innovation, par Eva Marques, Aleksi Timonen, et Solange Pruilh\n",
    "# Tuteur : M. Philippe Besse"
   ]
  },
  {
   "cell_type": "markdown",
   "metadata": {},
   "source": [
    "# Première Partie : \n",
    "## A-Reconnaissance de caractères manuscrits (MNIST)  en <a href=\"https://www.python.org/\"><img src=\"https://upload.wikimedia.org/wikipedia/commons/thumb/f/f8/Python_logo_and_wordmark.svg/390px-Python_logo_and_wordmark.svg.png\" style=\"max-width: 120px; display: inline\" alt=\"Python\"/></a> avec <a href=\"http://scikit-learn.org/stable/#\"><img src=\"http://scikit-learn.org/stable/_static/scikit-learn-logo-small.png\" style=\"max-width: 100px; display: inline\" alt=\"Scikit-Learn\"/></a>"
   ]
  },
  {
   "cell_type": "code",
   "execution_count": 1,
   "metadata": {
    "collapsed": false
   },
   "outputs": [
    {
     "name": "stderr",
     "output_type": "stream",
     "text": [
      "/usr/local/Canopy_64bit/Canopy_64bit/User/lib/python2.7/site-packages/matplotlib/font_manager.py:273: UserWarning: Matplotlib is building the font cache using fc-list. This may take a moment.\n",
      "  warnings.warn('Matplotlib is building the font cache using fc-list. This may take a moment.')\n"
     ]
    }
   ],
   "source": [
    "# Graphiques dans la fenêtre\n",
    "%matplotlib inline"
   ]
  },
  {
   "cell_type": "code",
   "execution_count": 2,
   "metadata": {
    "collapsed": true
   },
   "outputs": [],
   "source": [
    "import numpy as np\n",
    "import pandas as pd\n",
    "import matplotlib.pyplot as plt\n",
    "import time"
   ]
  },
  {
   "cell_type": "code",
   "execution_count": 3,
   "metadata": {
    "collapsed": false
   },
   "outputs": [
    {
     "data": {
      "text/html": [
       "<div>\n",
       "<table border=\"1\" class=\"dataframe\">\n",
       "  <thead>\n",
       "    <tr style=\"text-align: right;\">\n",
       "      <th></th>\n",
       "      <th>0</th>\n",
       "      <th>1</th>\n",
       "      <th>2</th>\n",
       "      <th>3</th>\n",
       "      <th>4</th>\n",
       "      <th>5</th>\n",
       "      <th>6</th>\n",
       "      <th>7</th>\n",
       "      <th>8</th>\n",
       "      <th>9</th>\n",
       "      <th>...</th>\n",
       "      <th>775</th>\n",
       "      <th>776</th>\n",
       "      <th>777</th>\n",
       "      <th>778</th>\n",
       "      <th>779</th>\n",
       "      <th>780</th>\n",
       "      <th>781</th>\n",
       "      <th>782</th>\n",
       "      <th>783</th>\n",
       "      <th>784</th>\n",
       "    </tr>\n",
       "  </thead>\n",
       "  <tbody>\n",
       "    <tr>\n",
       "      <th>0</th>\n",
       "      <td>0</td>\n",
       "      <td>0</td>\n",
       "      <td>0</td>\n",
       "      <td>0</td>\n",
       "      <td>0</td>\n",
       "      <td>0</td>\n",
       "      <td>0</td>\n",
       "      <td>0</td>\n",
       "      <td>0</td>\n",
       "      <td>0</td>\n",
       "      <td>...</td>\n",
       "      <td>0</td>\n",
       "      <td>0</td>\n",
       "      <td>0</td>\n",
       "      <td>0</td>\n",
       "      <td>0</td>\n",
       "      <td>0</td>\n",
       "      <td>0</td>\n",
       "      <td>0</td>\n",
       "      <td>0</td>\n",
       "      <td>2</td>\n",
       "    </tr>\n",
       "    <tr>\n",
       "      <th>1</th>\n",
       "      <td>0</td>\n",
       "      <td>0</td>\n",
       "      <td>0</td>\n",
       "      <td>0</td>\n",
       "      <td>0</td>\n",
       "      <td>0</td>\n",
       "      <td>0</td>\n",
       "      <td>0</td>\n",
       "      <td>0</td>\n",
       "      <td>0</td>\n",
       "      <td>...</td>\n",
       "      <td>0</td>\n",
       "      <td>0</td>\n",
       "      <td>0</td>\n",
       "      <td>0</td>\n",
       "      <td>0</td>\n",
       "      <td>0</td>\n",
       "      <td>0</td>\n",
       "      <td>0</td>\n",
       "      <td>0</td>\n",
       "      <td>3</td>\n",
       "    </tr>\n",
       "    <tr>\n",
       "      <th>2</th>\n",
       "      <td>0</td>\n",
       "      <td>0</td>\n",
       "      <td>0</td>\n",
       "      <td>0</td>\n",
       "      <td>0</td>\n",
       "      <td>0</td>\n",
       "      <td>0</td>\n",
       "      <td>0</td>\n",
       "      <td>0</td>\n",
       "      <td>0</td>\n",
       "      <td>...</td>\n",
       "      <td>0</td>\n",
       "      <td>0</td>\n",
       "      <td>0</td>\n",
       "      <td>0</td>\n",
       "      <td>0</td>\n",
       "      <td>0</td>\n",
       "      <td>0</td>\n",
       "      <td>0</td>\n",
       "      <td>0</td>\n",
       "      <td>0</td>\n",
       "    </tr>\n",
       "    <tr>\n",
       "      <th>3</th>\n",
       "      <td>0</td>\n",
       "      <td>0</td>\n",
       "      <td>0</td>\n",
       "      <td>0</td>\n",
       "      <td>0</td>\n",
       "      <td>0</td>\n",
       "      <td>0</td>\n",
       "      <td>0</td>\n",
       "      <td>0</td>\n",
       "      <td>0</td>\n",
       "      <td>...</td>\n",
       "      <td>0</td>\n",
       "      <td>0</td>\n",
       "      <td>0</td>\n",
       "      <td>0</td>\n",
       "      <td>0</td>\n",
       "      <td>0</td>\n",
       "      <td>0</td>\n",
       "      <td>0</td>\n",
       "      <td>0</td>\n",
       "      <td>0</td>\n",
       "    </tr>\n",
       "    <tr>\n",
       "      <th>4</th>\n",
       "      <td>0</td>\n",
       "      <td>0</td>\n",
       "      <td>0</td>\n",
       "      <td>0</td>\n",
       "      <td>0</td>\n",
       "      <td>0</td>\n",
       "      <td>0</td>\n",
       "      <td>0</td>\n",
       "      <td>0</td>\n",
       "      <td>0</td>\n",
       "      <td>...</td>\n",
       "      <td>0</td>\n",
       "      <td>0</td>\n",
       "      <td>0</td>\n",
       "      <td>0</td>\n",
       "      <td>0</td>\n",
       "      <td>0</td>\n",
       "      <td>0</td>\n",
       "      <td>0</td>\n",
       "      <td>0</td>\n",
       "      <td>2</td>\n",
       "    </tr>\n",
       "  </tbody>\n",
       "</table>\n",
       "<p>5 rows × 785 columns</p>\n",
       "</div>"
      ],
      "text/plain": [
       "   0    1    2    3    4    5    6    7    8    9   ...   775  776  777  778  \\\n",
       "0    0    0    0    0    0    0    0    0    0    0 ...     0    0    0    0   \n",
       "1    0    0    0    0    0    0    0    0    0    0 ...     0    0    0    0   \n",
       "2    0    0    0    0    0    0    0    0    0    0 ...     0    0    0    0   \n",
       "3    0    0    0    0    0    0    0    0    0    0 ...     0    0    0    0   \n",
       "4    0    0    0    0    0    0    0    0    0    0 ...     0    0    0    0   \n",
       "\n",
       "   779  780  781  782  783  784  \n",
       "0    0    0    0    0    0    2  \n",
       "1    0    0    0    0    0    3  \n",
       "2    0    0    0    0    0    0  \n",
       "3    0    0    0    0    0    0  \n",
       "4    0    0    0    0    0    2  \n",
       "\n",
       "[5 rows x 785 columns]"
      ]
     },
     "execution_count": 3,
     "metadata": {},
     "output_type": "execute_result"
    }
   ],
   "source": [
    "# Lecture des données d'apprentissage\n",
    "path=\"\" # Si les données osnt dans le répertoire courant sinon:\n",
    "#path=\"http://www.math.univ-toulouse.fr/~besse/Wikistat/data/\"\n",
    "Dtrain=pd.read_csv(path+\"mnist_train.csv\",header=None)\n",
    "Dtrain.head()"
   ]
  },
  {
   "cell_type": "code",
   "execution_count": 4,
   "metadata": {
    "collapsed": false
   },
   "outputs": [
    {
     "data": {
      "text/plain": [
       "(60000, 785)"
      ]
     },
     "execution_count": 4,
     "metadata": {},
     "output_type": "execute_result"
    }
   ],
   "source": [
    "# Dimensions de l'échantillon\n",
    "Dtrain.shape"
   ]
  },
  {
   "cell_type": "code",
   "execution_count": 5,
   "metadata": {
    "collapsed": false
   },
   "outputs": [
    {
     "data": {
      "text/html": [
       "<div>\n",
       "<table border=\"1\" class=\"dataframe\">\n",
       "  <thead>\n",
       "    <tr style=\"text-align: right;\">\n",
       "      <th></th>\n",
       "      <th>0</th>\n",
       "      <th>1</th>\n",
       "      <th>2</th>\n",
       "      <th>3</th>\n",
       "      <th>4</th>\n",
       "      <th>5</th>\n",
       "      <th>6</th>\n",
       "      <th>7</th>\n",
       "      <th>8</th>\n",
       "      <th>9</th>\n",
       "      <th>...</th>\n",
       "      <th>774</th>\n",
       "      <th>775</th>\n",
       "      <th>776</th>\n",
       "      <th>777</th>\n",
       "      <th>778</th>\n",
       "      <th>779</th>\n",
       "      <th>780</th>\n",
       "      <th>781</th>\n",
       "      <th>782</th>\n",
       "      <th>783</th>\n",
       "    </tr>\n",
       "  </thead>\n",
       "  <tbody>\n",
       "    <tr>\n",
       "      <th>0</th>\n",
       "      <td>0</td>\n",
       "      <td>0</td>\n",
       "      <td>0</td>\n",
       "      <td>0</td>\n",
       "      <td>0</td>\n",
       "      <td>0</td>\n",
       "      <td>0</td>\n",
       "      <td>0</td>\n",
       "      <td>0</td>\n",
       "      <td>0</td>\n",
       "      <td>...</td>\n",
       "      <td>0</td>\n",
       "      <td>0</td>\n",
       "      <td>0</td>\n",
       "      <td>0</td>\n",
       "      <td>0</td>\n",
       "      <td>0</td>\n",
       "      <td>0</td>\n",
       "      <td>0</td>\n",
       "      <td>0</td>\n",
       "      <td>0</td>\n",
       "    </tr>\n",
       "    <tr>\n",
       "      <th>1</th>\n",
       "      <td>0</td>\n",
       "      <td>0</td>\n",
       "      <td>0</td>\n",
       "      <td>0</td>\n",
       "      <td>0</td>\n",
       "      <td>0</td>\n",
       "      <td>0</td>\n",
       "      <td>0</td>\n",
       "      <td>0</td>\n",
       "      <td>0</td>\n",
       "      <td>...</td>\n",
       "      <td>0</td>\n",
       "      <td>0</td>\n",
       "      <td>0</td>\n",
       "      <td>0</td>\n",
       "      <td>0</td>\n",
       "      <td>0</td>\n",
       "      <td>0</td>\n",
       "      <td>0</td>\n",
       "      <td>0</td>\n",
       "      <td>0</td>\n",
       "    </tr>\n",
       "    <tr>\n",
       "      <th>2</th>\n",
       "      <td>0</td>\n",
       "      <td>0</td>\n",
       "      <td>0</td>\n",
       "      <td>0</td>\n",
       "      <td>0</td>\n",
       "      <td>0</td>\n",
       "      <td>0</td>\n",
       "      <td>0</td>\n",
       "      <td>0</td>\n",
       "      <td>0</td>\n",
       "      <td>...</td>\n",
       "      <td>0</td>\n",
       "      <td>0</td>\n",
       "      <td>0</td>\n",
       "      <td>0</td>\n",
       "      <td>0</td>\n",
       "      <td>0</td>\n",
       "      <td>0</td>\n",
       "      <td>0</td>\n",
       "      <td>0</td>\n",
       "      <td>0</td>\n",
       "    </tr>\n",
       "    <tr>\n",
       "      <th>3</th>\n",
       "      <td>0</td>\n",
       "      <td>0</td>\n",
       "      <td>0</td>\n",
       "      <td>0</td>\n",
       "      <td>0</td>\n",
       "      <td>0</td>\n",
       "      <td>0</td>\n",
       "      <td>0</td>\n",
       "      <td>0</td>\n",
       "      <td>0</td>\n",
       "      <td>...</td>\n",
       "      <td>0</td>\n",
       "      <td>0</td>\n",
       "      <td>0</td>\n",
       "      <td>0</td>\n",
       "      <td>0</td>\n",
       "      <td>0</td>\n",
       "      <td>0</td>\n",
       "      <td>0</td>\n",
       "      <td>0</td>\n",
       "      <td>0</td>\n",
       "    </tr>\n",
       "    <tr>\n",
       "      <th>4</th>\n",
       "      <td>0</td>\n",
       "      <td>0</td>\n",
       "      <td>0</td>\n",
       "      <td>0</td>\n",
       "      <td>0</td>\n",
       "      <td>0</td>\n",
       "      <td>0</td>\n",
       "      <td>0</td>\n",
       "      <td>0</td>\n",
       "      <td>0</td>\n",
       "      <td>...</td>\n",
       "      <td>0</td>\n",
       "      <td>0</td>\n",
       "      <td>0</td>\n",
       "      <td>0</td>\n",
       "      <td>0</td>\n",
       "      <td>0</td>\n",
       "      <td>0</td>\n",
       "      <td>0</td>\n",
       "      <td>0</td>\n",
       "      <td>0</td>\n",
       "    </tr>\n",
       "  </tbody>\n",
       "</table>\n",
       "<p>5 rows × 784 columns</p>\n",
       "</div>"
      ],
      "text/plain": [
       "   0    1    2    3    4    5    6    7    8    9   ...   774  775  776  777  \\\n",
       "0    0    0    0    0    0    0    0    0    0    0 ...     0    0    0    0   \n",
       "1    0    0    0    0    0    0    0    0    0    0 ...     0    0    0    0   \n",
       "2    0    0    0    0    0    0    0    0    0    0 ...     0    0    0    0   \n",
       "3    0    0    0    0    0    0    0    0    0    0 ...     0    0    0    0   \n",
       "4    0    0    0    0    0    0    0    0    0    0 ...     0    0    0    0   \n",
       "\n",
       "   778  779  780  781  782  783  \n",
       "0    0    0    0    0    0    0  \n",
       "1    0    0    0    0    0    0  \n",
       "2    0    0    0    0    0    0  \n",
       "3    0    0    0    0    0    0  \n",
       "4    0    0    0    0    0    0  \n",
       "\n",
       "[5 rows x 784 columns]"
      ]
     },
     "execution_count": 5,
     "metadata": {},
     "output_type": "execute_result"
    }
   ],
   "source": [
    "# Extraction puis suppression de la dernière colonne des labels\n",
    "Ltrain=Dtrain.iloc[:,784]\n",
    "Dtrain.drop(Dtrain.columns[[784]], axis=1,inplace=True)\n",
    "Dtrain.head()"
   ]
  },
  {
   "cell_type": "code",
   "execution_count": 6,
   "metadata": {
    "collapsed": false
   },
   "outputs": [
    {
     "data": {
      "text/plain": [
       "(10000, 784)"
      ]
     },
     "execution_count": 6,
     "metadata": {},
     "output_type": "execute_result"
    }
   ],
   "source": [
    "# Même chose pour les données de test\n",
    "Dtest=pd.read_csv(path+\"mnist_test.csv\",header=None)\n",
    "Ltest=Dtest.iloc[:,784]\n",
    "Dtest.drop(Dtest.columns[[784]], axis=1,inplace=True)\n",
    "Dtest.shape"
   ]
  },
  {
   "cell_type": "code",
   "execution_count": 7,
   "metadata": {
    "collapsed": false
   },
   "outputs": [
    {
     "data": {
      "image/png": "[encoded data removed]",
      "text/plain": [
       "<matplotlib.figure.Figure at 0x7f7693f85b90>"
      ]
     },
     "metadata": {},
     "output_type": "display_data"
    }
   ],
   "source": [
    "# affichage d'un chiffre\n",
    "plt.figure(1, figsize=(3, 3))\n",
    "plt.imshow(np.matrix(Dtest.iloc[1,:]).reshape(28,28), cmap=plt.cm.gray_r, interpolation='nearest')\n",
    "plt.show()"
   ]
  },
  {
   "cell_type": "code",
   "execution_count": 8,
   "metadata": {
    "collapsed": true
   },
   "outputs": [],
   "source": [
    "#importation des outils sklearn\n",
    "from sklearn.neighbors import KNeighborsClassifier\n",
    "from sklearn.model_selection import GridSearchCV\n",
    "from sklearn.ensemble import RandomForestClassifier\n",
    "from sklearn.neural_network import MLPClassifier\n",
    "from sklearn.neural_network import MLPRegressor\n",
    "from sklearn.metrics import confusion_matrix\n"
   ]
  },
  {
   "cell_type": "markdown",
   "metadata": {},
   "source": [
    "## $K$ plus proches voisins"
   ]
  },
  {
   "cell_type": "code",
   "execution_count": 67,
   "metadata": {
    "collapsed": false
   },
   "outputs": [
    {
     "name": "stdout",
     "output_type": "stream",
     "text": [
      "Temps de k-nn : 0.4080154110763639\n"
     ]
    }
   ],
   "source": [
    "# Définition du modèle avec un nombre k \"standard\" de voisins\n",
    "tps1 = time.clock()\n",
    "knn = KNeighborsClassifier(n_neighbors=15,n_jobs=-1)\n",
    "digit_knn=knn.fit(Dtrain, Ltrain) \n",
    "tps2 = time.clock()\n",
    "print(\"Temps définition du modèle k-nn avec 15 voisins:\",(tps2 - tps1)/60)"
   ]
  },
  {
   "cell_type": "code",
   "execution_count": null,
   "metadata": {
    "collapsed": false
   },
   "outputs": [
    {
     "name": "stdout",
     "output_type": "stream",
     "text": [
      "Temps: 4.144379219830413 Erreur: 0.0367\n"
     ]
    }
   ],
   "source": [
    "# Estimation de l'erreur de prévision sur l'échantillon test\n",
    "tps1 = time.clock()\n",
    "erreur=1-digit_knn.score(Dtest,Ltest)\n",
    "tps2 = time.clock()\n",
    "print(\"Temps d'apprentissage sur échantillon test:\",(tps2 - tps1)/60,\"Erreur:\",erreur)"
   ]
  },
  {
   "cell_type": "markdown",
   "metadata": {},
   "source": [
    "On utilise maintenant la validation croisée pour optimiser les paramètres, c'est à dire le nombre de voisins."
   ]
  },
  {
   "cell_type": "code",
   "execution_count": null,
   "metadata": {
    "collapsed": true
   },
   "outputs": [],
   "source": [
    "# Application pour la validation croisée\n",
    "\n",
    "param_grid=[{\"n_neighbors\":list(range(5,11))}] ### test sur le nombre de voisins optimal\n",
    "val_croisee = GridSearchCV(KNeighborsClassifier(),param_grid,cv=5,n_jobs=-1)\n",
    "\n",
    "val_croiseeOpt=val_croisee.fit(Dtrain,Ltrain)\n",
    "# paramètre optimal\n",
    "print(\"Meilleur score = %f, Meilleur paramètre = %s\" % (1. - val_croiseeOpt.best_score_,val_croiseeOpt.best_params_))"
   ]
  },
  {
   "cell_type": "code",
   "execution_count": null,
   "metadata": {
    "collapsed": true
   },
   "outputs": [],
   "source": [
    "knn = KNeighborsClassifier(n_neighbors=val_croiseeOpt.best_params_[\"n_neighbors\"])\n",
    "digit_knn=knn.fit(Dtrain, Ltrain)\n",
    "# Estimation de l’erreur de prévision\n",
    "1-digit_knn.score(Dtest,Ltest)\n",
    "# Prévision\n",
    "y_chap = digit_knn.predict(Dtest)\n",
    "# matrice de confusion\n",
    "table=pd.crosstab(Ltest,y_chap)\n",
    "print(table)\n"
   ]
  },
  {
   "cell_type": "markdown",
   "metadata": {},
   "source": [
    "On trouve que le nombre de voisins optimal est 7 pour une erreur de prévision de l'ordre de 3 % .\n",
    "\n",
    "### Remarque : \n",
    "Le temps d'exécution de la validation croisée pour les k-plus proches voisins est très long. "
   ]
  },
  {
   "cell_type": "markdown",
   "metadata": {},
   "source": [
    "# Random Forest"
   ]
  },
  {
   "cell_type": "code",
   "execution_count": 8,
   "metadata": {
    "collapsed": false
   },
   "outputs": [
    {
     "name": "stdout",
     "output_type": "stream",
     "text": [
      "Temps de configuration RF avec 100 arbres : 2.5950667999999997\n"
     ]
    }
   ],
   "source": [
    "tps0 = time.clock()\n",
    "rf = RandomForestClassifier(n_estimators=100, \n",
    "   criterion='gini', max_depth=None, min_samples_split=2, \n",
    "   min_samples_leaf=1, max_features='auto', max_leaf_nodes=None, \n",
    "   bootstrap=True, oob_score=True, n_jobs=-1,random_state=None, verbose=0)\n",
    "rf.fit(Dtrain,Ltrain)\n",
    "tps1 = time.clock()\n",
    "print(\"Temps de configuration RF avec 100 arbres :\" ,(tps1 - tps0)/60)"
   ]
  },
  {
   "cell_type": "code",
   "execution_count": 12,
   "metadata": {
    "collapsed": false
   },
   "outputs": [
    {
     "name": "stdout",
     "output_type": "stream",
     "text": [
      "Temps d'execution RF avec 100 arbres: 2.620620133333333\n",
      "Erreur oob: 0.0343166666667\n"
     ]
    }
   ],
   "source": [
    "# erreur out-of-bag\n",
    "erreur_oob=1-rf.oob_score_\n",
    "tps2 = time.clock()\n",
    "\n",
    "print(\"Temps d'execution RF avec 100 arbres:\", (tps2 - tps0)/60)\n",
    "print(\"Erreur oob:\", erreur_oob)"
   ]
  },
  {
   "cell_type": "code",
   "execution_count": 10,
   "metadata": {
    "collapsed": false
   },
   "outputs": [
    {
     "name": "stdout",
     "output_type": "stream",
     "text": [
      "Erreur sur l'echantillon test: 0.0296\n"
     ]
    }
   ],
   "source": [
    "# erreur sur l'échantillon test\n",
    "print (\"Erreur sur l'echantillon test:\", 1-rf.score(Dtest,Ltest))"
   ]
  },
  {
   "cell_type": "markdown",
   "metadata": {},
   "source": [
    "## Optimisation de l'erreur out-of-bag par variation du nombres d'arbres"
   ]
  },
  {
   "cell_type": "code",
   "execution_count": 8,
   "metadata": {
    "collapsed": false
   },
   "outputs": [
    {
     "name": "stdout",
     "output_type": "stream",
     "text": [
      "Temps de configuration RF pour   200 arbres : 2.2596347666666667\n",
      "Temps de configuration RF pour   250 arbres : 2.8940652833333336\n",
      "Temps de configuration RF pour   300 arbres : 3.4279459500000002\n",
      "Temps de configuration RF pour   350 arbres : 4.007220266666667\n",
      "Temps de configuration RF pour   400 arbres : 4.520629983333333\n",
      "Temps de configuration RF pour   450 arbres : 5.049873633333334\n",
      "Temps de configuration RF pour   500 arbres : 5.697774500000003\n",
      "Temps de configuration RF pour   550 arbres : 6.260032283333332\n",
      "Temps de configuration RF pour   600 arbres : 6.72453131666667\n",
      "Temps de configuration RF pour   650 arbres : 7.4060887000000015\n",
      "Temps de configuration RF pour   700 arbres : 7.868698916666661\n",
      "Temps de configuration RF pour   750 arbres : 8.584115766666665\n",
      "Temps de configuration RF pour   800 arbres : 9.127237199999998\n"
     ]
    }
   ],
   "source": [
    "erreur_oob=np.zeros(13)\n",
    "x=np.linspace(200,800,13,dtype=np.int16)\n",
    "array_erreur=np.zeros(13)\n",
    "for i in range(13) :\n",
    "    tps0 = time.clock()\n",
    "    rf = RandomForestClassifier(n_estimators=x[i], criterion='gini', max_depth=None, min_samples_split=2, min_samples_leaf=1, max_features='auto', max_leaf_nodes=None,  bootstrap=True, oob_score=True, n_jobs=-1,random_state=None, verbose=0)\n",
    "    rf.fit(Dtrain,Ltrain)\n",
    "    tps1 = time.clock()\n",
    "    \n",
    "    print(\"Temps de configuration RF pour  \",x[i],\"arbres :\" ,(tps1 - tps0)/60)\n",
    "    # erreur out-of-bag\n",
    "    erreur_oob[i]=1-rf.oob_score_\n",
    "    # erreur sur l'échantillon test\n",
    "    array_erreur[i]=1-rf.score(Dtest,Ltest)"
   ]
  },
  {
   "cell_type": "code",
   "execution_count": 9,
   "metadata": {
    "collapsed": false
   },
   "outputs": [
    {
     "data": {
      "text/plain": [
       "<matplotlib.text.Text at 0x7feb9dded4a8>"
      ]
     },
     "execution_count": 9,
     "metadata": {},
     "output_type": "execute_result"
    },
    {
     "data": {
      "image/png": "[encoded data removed]",
      "text/plain": [
       "<matplotlib.figure.Figure at 0x7feb9e926d30>"
      ]
     },
     "metadata": {},
     "output_type": "display_data"
    }
   ],
   "source": [
    "plt.figure(1)\n",
    "plt.subplot(2,1,1)\n",
    "#graphe des erreurs out of bag en fonction du nombre d'arbres\n",
    "plt.plot(x,erreur_oob)\n",
    "plt.xlabel('Nombre d arbres')\n",
    "plt.ylabel('erreur out-of-bag')\n",
    "\n",
    "plt.subplot(2,1,2)\n",
    "#graphe des erreurs sur l'échantillon test en fonction du nombre d'arbres\n",
    "plt.plot(x,array_erreur)\n",
    "plt.xlabel('Nombre d arbres')\n",
    "plt.ylabel('erreur sur l echantillon test')"
   ]
  },
  {
   "cell_type": "markdown",
   "metadata": {},
   "source": [
    "Plus le nombre d'arbres augmente, plus l'erreur out-of-bag diminue, ce qui est normal car plus le nombre d'arbres est grand, plus le modèle est ajusté. \n",
    "L'erreur sur l'échantillon test permet de déterminer plus objectivement le nombre d'arbre optimal. \n",
    "Remarquons qu'à chaque simulation, les graphes évoluent, c'est pourquoi ce choix est assez empirique. On pourrait mettre en place une méthode de Monte Carlo pour trouver la meilleure valeur du paramètre, mais cela prendrait beaucoup trop de temps. \n",
    "\n",
    "Mais l'erreur out-of-bag reste de l'ordre 2,9% environ."
   ]
  },
  {
   "cell_type": "markdown",
   "metadata": {},
   "source": [
    "## Optimisation de l'erreur out-of-bag par variation de max_features"
   ]
  },
  {
   "cell_type": "code",
   "execution_count": 8,
   "metadata": {
    "collapsed": false
   },
   "outputs": [
    {
     "name": "stdout",
     "output_type": "stream",
     "text": [
      "[ 2  5  8 12 15 18 22 25 28 32]\n"
     ]
    }
   ],
   "source": [
    "x2=np.linspace(2,32,10,dtype=np.int16)\n",
    "print (x2)"
   ]
  },
  {
   "cell_type": "code",
   "execution_count": 9,
   "metadata": {
    "collapsed": false
   },
   "outputs": [
    {
     "name": "stdout",
     "output_type": "stream",
     "text": [
      "L'algorithme RandomForest est ici exécuté avec un nombre d'arbres fixé à 500.\n"
     ]
    }
   ],
   "source": [
    "erreur_oob2=np.zeros(10)\n",
    "array_erreur2=np.zeros(10)\n",
    "x2=np.linspace(2,32,10,dtype=np.int16)\n",
    "temps_exec=np.zeros(10)\n",
    "print (\"L'algorithme RandomForest est ici exécuté avec un nombre d'arbres fixé à 500.\")\n",
    "for i in range(10) :\n",
    "    tps0 = time.clock()\n",
    "    rf = RandomForestClassifier(n_estimators=500, \n",
    "       criterion='gini', max_depth=None, min_samples_split=2, \n",
    "       min_samples_leaf=1, max_features=x2[i], max_leaf_nodes=None, \n",
    "       bootstrap=True, oob_score=True, n_jobs=-1,random_state=None, verbose=0)\n",
    "    rf.fit(Dtrain,Ltrain)\n",
    "    tps1 = time.clock()\n",
    "\n",
    "    # erreur out-of-bag\n",
    "    erreur_oob2[i]=1-rf.oob_score_\n",
    "    tps2 = time.clock()\n",
    "    temps_exec[i]=(tps2 - tps0)/60\n",
    "    \n",
    "    # erreur sur l'échantillon test\n",
    "    array_erreur2[i]=1-rf.score(Dtest,Ltest)\n"
   ]
  },
  {
   "cell_type": "code",
   "execution_count": 12,
   "metadata": {
    "collapsed": false
   },
   "outputs": [
    {
     "data": {
      "text/plain": [
       "<matplotlib.text.Text at 0x7f8802cb27f0>"
      ]
     },
     "execution_count": 12,
     "metadata": {},
     "output_type": "execute_result"
    },
    {
     "data": {
      "image/png": "[encoded data removed]",
      "text/plain": [
       "<matplotlib.figure.Figure at 0x7f8802e20710>"
      ]
     },
     "metadata": {},
     "output_type": "display_data"
    }
   ],
   "source": [
    "plt.figure(2)\n",
    "plt.subplot(3,1,1)\n",
    "#graphe des erreurs out of bag en fonction du nombre de max_features\n",
    "plt.plot(x2,erreur_oob2)\n",
    "plt.xlabel('Max_features')\n",
    "plt.ylabel('erreur oob')\n",
    "\n",
    "plt.subplot(3,1,2)\n",
    "#graphe des erreurs sur l'échantillon test en fonction du nombre de max_features\n",
    "plt.plot(x2,array_erreur2)\n",
    "plt.xlabel('max_features')\n",
    "plt.ylabel('erreur test')\n",
    "\n",
    "plt.subplot(3,1,3)\n",
    "#graphe du temps d'exécution en fonction du nombre de max_features\n",
    "plt.plot(x2,temps_exec)\n",
    "plt.xlabel('max_features')\n",
    "plt.ylabel('Temps execution')"
   ]
  },
  {
   "cell_type": "code",
   "execution_count": 13,
   "metadata": {
    "collapsed": false
   },
   "outputs": [
    {
     "name": "stdout",
     "output_type": "stream",
     "text": [
      "Temps de configutration RF pour 500 arbres et max_features = log2: 157.46322099999998\n"
     ]
    }
   ],
   "source": [
    "tps0 = time.clock()\n",
    "rf = RandomForestClassifier(n_estimators=500, \n",
    "   criterion='gini', max_depth=None, min_samples_split=2, \n",
    "   min_samples_leaf=1, max_features='log2', max_leaf_nodes=None, \n",
    "   bootstrap=True, oob_score=True, n_jobs=-1,random_state=None, verbose=0)\n",
    "rf.fit(Dtrain,Ltrain)\n",
    "tps1 = time.clock()\n",
    "print(\"Temps de configuration RF pour 500 arbres et max_features = log2:\" ,tps1 - tps0)"
   ]
  },
  {
   "cell_type": "code",
   "execution_count": 15,
   "metadata": {
    "collapsed": false
   },
   "outputs": [
    {
     "name": "stdout",
     "output_type": "stream",
     "text": [
      "Temps execution RF : 160.76007200000004 Erreur oob: 0.0316833333333\n",
      "Erreur sur échantillon test : 0.0311\n"
     ]
    }
   ],
   "source": [
    "# erreur out-of-bag\n",
    "erreur_oob=1-rf.oob_score_\n",
    "tps2 = time.clock()\n",
    "print(\"Temps execution RF :\", tps2 - tps0, \"Erreur oob:\", erreur_oob)\n",
    "print(\"Erreur sur échantillon test :\", 1-rf.score(Dtest,Ltest))"
   ]
  },
  {
   "cell_type": "markdown",
   "metadata": {},
   "source": [
    "Avec max_features valant $log_2 (n\\_features)$ l'erreur out-of-bag n'est pas meilleure. On garde donc $max\\_features=\\sqrt{n\\_features}$."
   ]
  },
  {
   "cell_type": "code",
   "execution_count": 16,
   "metadata": {
    "collapsed": false
   },
   "outputs": [
    {
     "name": "stdout",
     "output_type": "stream",
     "text": [
      "Temps de configutration RF : 336.94610999999986\n",
      "Temps execution RF : 336.9470299999998 Erreur oob: 0.0297\n",
      "Erreur sur échantillon test : 0.0283\n"
     ]
    }
   ],
   "source": [
    "tps0 = time.clock()\n",
    "rf = RandomForestClassifier(n_estimators=500, \n",
    "   criterion='gini', max_depth=None, min_samples_split=2, \n",
    "   min_samples_leaf=1, max_features='auto', max_leaf_nodes=None, \n",
    "   bootstrap=True, oob_score=True, n_jobs=-1,random_state=None, verbose=0)\n",
    "rfFit=rf.fit(Dtrain,Ltrain)\n",
    "tps1 = time.clock()\n",
    "print(\"Temps de configuration RF :\" ,tps1 - tps0)\n",
    "# erreur out-of-bag\n",
    "erreur_oob=1-rf.oob_score_\n",
    "tps2 = time.clock()\n",
    "print(\"Temps execution RF :\", tps2 - tps0, \"Erreur oob:\", erreur_oob)\n",
    "print(\"Erreur sur échantillon test :\", 1-rf.score(Dtest,Ltest))"
   ]
  },
  {
   "cell_type": "code",
   "execution_count": 19,
   "metadata": {
    "collapsed": false
   },
   "outputs": [
    {
     "name": "stdout",
     "output_type": "stream",
     "text": [
      "Matrice de confusion :\n",
      "784      0     1    2    3    4    5    6    7    8    9\n",
      "row_0                                                   \n",
      "0      970     0    6    0    1    3    5    1    4    5\n",
      "1        0  1124    0    0    0    0    3    3    0    6\n",
      "2        0     2  999    8    1    0    1   18    6    2\n",
      "3        0     3    6  977    0    9    0    1    7   10\n",
      "4        0     0    2    0  959    3    3    1    2   11\n",
      "5        2     2    0    5    0  864    4    0    5    4\n",
      "6        2     2    4    0    5    6  938    0    3    1\n",
      "7        1     0    9    9    0    1    0  992    4    3\n",
      "8        4     1    6    7    2    5    4    3  932    5\n",
      "9        1     1    0    4   14    1    0    9   11  962\n"
     ]
    }
   ],
   "source": [
    "# prévision de l'échantillon test\n",
    "y_chap = rfFit.predict(Dtest)\n",
    "# matrice de confusion\n",
    "table=pd.crosstab(y_chap,Ltest)\n",
    "print(\"Matrice de confusion :\")\n",
    "print(table)"
   ]
  },
  {
   "cell_type": "markdown",
   "metadata": {},
   "source": [
    "# Réseaux de neurones"
   ]
  },
  {
   "cell_type": "markdown",
   "metadata": {},
   "source": [
    "## Multi-layer Perceptron Classifier"
   ]
  },
  {
   "cell_type": "code",
   "execution_count": 9,
   "metadata": {
    "collapsed": false
   },
   "outputs": [],
   "source": [
    "from sklearn.preprocessing import StandardScaler  \n",
    "# L'algorithme des réseaux de neurones nécessite éventuellement une normalisation \n",
    "# des variables explicatives avec les commandes ci-dessous\n",
    "scaler = StandardScaler()  \n",
    "scaler.fit(Dtrain)  \n",
    "Dnet_train = scaler.transform(Dtrain)  \n",
    "# Meme transformation sur le test\n",
    "Dnet_test = scaler.transform(Dtest)"
   ]
  },
  {
   "cell_type": "code",
   "execution_count": 11,
   "metadata": {
    "collapsed": false
   },
   "outputs": [
    {
     "name": "stdout",
     "output_type": "stream",
     "text": [
      "('Temps execution RF :', 251.94206100000002)\n",
      "Meilleur score = 0.026117, Meilleur paramètre = {'hidden_layer_sizes': (400,)}\n"
     ]
    }
   ],
   "source": [
    " ### test de nombres de neurones\n",
    "tps0 = time.clock()\n",
    "param_grid=[{\"hidden_layer_sizes\":list([(100,),(200,),(300,),(400,),(500,),(600,)])}]\n",
    "nnet= GridSearchCV(MLPClassifier(max_iter=400),param_grid,cv=5,n_jobs=-1)\n",
    "\n",
    "nnetOpt=nnet.fit(Dnet_train,Ltrain)\n",
    "tps2 = time.clock()\n",
    "print(\"Temps execution RF :\", tps2 - tps0) \n",
    "print(\"Meilleur score = %f, Meilleur paramètre = %s\" % (1. - nnetOpt.best_score_,nnetOpt.best_params_))"
   ]
  },
  {
   "cell_type": "code",
   "execution_count": 12,
   "metadata": {
    "collapsed": false
   },
   "outputs": [
    {
     "name": "stdout",
     "output_type": "stream",
     "text": [
      "('Erreur : ', 0.025000000000000022)\n"
     ]
    }
   ],
   "source": [
    "# Estimation de l'erreur de prévision sur le test\n",
    "erreur= 1-nnetOpt.score(Dnet_test,Ltest)\n",
    "print (\"Erreur : \", erreur)"
   ]
  },
  {
   "cell_type": "code",
   "execution_count": 13,
   "metadata": {
    "collapsed": false
   },
   "outputs": [
    {
     "name": "stdout",
     "output_type": "stream",
     "text": [
      "784      0     1    2    3    4    5    6     7    8    9\n",
      "row_0                                                    \n",
      "0      971     1    6    0    2    2    3     0    2    4\n",
      "1        1  1118    2    0    0    0    2     2    0    2\n",
      "2        0     5  997    1    7    0    2    11    2    0\n",
      "3        1     1    4  990    0    8    1     0   10    7\n",
      "4        1     0    1    0  950    1    3     1    2    7\n",
      "5        2     3    0    6    0  869    7     0    7    4\n",
      "6        1     2    2    1    4    3  935     0    2    2\n",
      "7        1     1    8    3    4    1    0  1003    3    5\n",
      "8        2     4   11    5    2    7    5     1  944    5\n",
      "9        0     0    1    4   13    1    0    10    2  973\n"
     ]
    }
   ],
   "source": [
    "# prévision de l'échantillon test\n",
    "y_chap = nnetOpt.predict(Dnet_test)\n",
    "# matrice de confusion\n",
    "table=pd.crosstab(y_chap,Ltest)\n",
    "print(table)"
   ]
  },
  {
   "cell_type": "markdown",
   "metadata": {},
   "source": [
    "On trouve le nombre optimal de neurones par validation croisée : 500. L'erreur de prévision est de 2.5%"
   ]
  }
 ],
 "metadata": {
  "kernelspec": {
   "display_name": "Python 2",
   "language": "python",
   "name": "python2"
  },
  "language_info": {
   "codemirror_mode": {
    "name": "ipython",
    "version": 2
   },
   "file_extension": ".py",
   "mimetype": "text/x-python",
   "name": "python",
   "nbconvert_exporter": "python",
   "pygments_lexer": "ipython2",
   "version": "2.7.11"
  }
 },
 "nbformat": 4,
 "nbformat_minor": 2
}
