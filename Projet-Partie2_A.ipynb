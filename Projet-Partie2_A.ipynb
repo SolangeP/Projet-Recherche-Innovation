{
 "cells": [
  {
   "cell_type": "markdown",
   "metadata": {},
   "source": [
    "<center>\n",
    "<a href=\"http://www.insa-toulouse.fr/\" ><img src=\"http://www.math.univ-toulouse.fr/~besse/Wikistat/Images/logo-insa.jpg\" style=\"float:left; max-width: 120px; display: inline\" alt=\"INSA\"/></a> \n",
    "\n",
    "<a href=\"http://meteofrance.fr/\" ><img src=\"photo.jpg\" style=\"float:right; max-width: 120px; display: inline\"  alt=\"MétéoFrance\"/></a>\n",
    "\n",
    "\n",
    "</center>"
   ]
  },
  {
   "cell_type": "markdown",
   "metadata": {},
   "source": [
    "# Projet Recherche et Innovation, par Eva Marques, Aleksi Timonen, et Solange Pruilh\n",
    "# Tuteur : M. Philippe Besse"
   ]
  },
  {
   "cell_type": "markdown",
   "metadata": {},
   "source": [
    "# Deuxième Partie :  \n",
    "# A- Prévision de la nébulosité (Méteo-France )  en <a href=\"https://www.python.org/\"><img src=\"https://upload.wikimedia.org/wikipedia/commons/thumb/f/f8/Python_logo_and_wordmark.svg/390px-Python_logo_and_wordmark.svg.png\" style=\"max-width: 120px; display: inline\" alt=\"Python\"/></a> avec <a href=\"http://scikit-learn.org/stable/#\"><img src=\"http://scikit-learn.org/stable/_static/scikit-learn-logo-small.png\" style=\"max-width: 100px; display: inline\" alt=\"Scikit-Learn\"/></a>"
   ]
  },
  {
   "cell_type": "code",
   "execution_count": 2,
   "metadata": {
    "collapsed": false
   },
   "outputs": [],
   "source": [
    "import numpy as np\n",
    "import pandas as pd\n",
    "import matplotlib.pyplot as plt\n",
    "import math\n",
    "import time\n",
    "\n",
    "%matplotlib inline\n",
    "path=\"\"\n",
    "data=pd.read_csv(path+\"data.dat\",sep=\",\",header=0)"
   ]
  },
  {
   "cell_type": "markdown",
   "metadata": {},
   "source": [
    "# 1.Transformation des données"
   ]
  },
  {
   "cell_type": "code",
   "execution_count": 3,
   "metadata": {
    "collapsed": true
   },
   "outputs": [],
   "source": [
    "data[\"ddfH1000\"]=pd.Categorical(data[\"ddfH1000\"], ordered=False)\n",
    "data[\"mois\"]=pd.Categorical(data[\"mois\"], ordered=False)\n",
    "del data[\"fllat3SOL0\"]"
   ]
  },
  {
   "cell_type": "code",
   "execution_count": 4,
   "metadata": {
    "collapsed": false
   },
   "outputs": [
    {
     "name": "stdout",
     "output_type": "stream",
     "text": [
      "<class 'pandas.core.frame.DataFrame'>\n",
      "RangeIndex: 564740 entries, 0 to 564739\n",
      "Data columns (total 19 columns):\n",
      "nebsat         564740 non-null float64\n",
      "lat            564740 non-null float64\n",
      "lon            564740 non-null float64\n",
      "flevap3SOL0    564740 non-null float64\n",
      "flir3SOL0      564740 non-null int64\n",
      "huH2           564740 non-null float64\n",
      "nbSOL0         564740 non-null float64\n",
      "nhSOL0         564740 non-null float64\n",
      "nmSOL0         564740 non-null float64\n",
      "ntSOL0         564740 non-null float64\n",
      "ntSOL0em3      564740 non-null float64\n",
      "ntSOL0ep3      564740 non-null float64\n",
      "pMER0          564740 non-null float64\n",
      "tH2            564740 non-null float64\n",
      "tH2VGRAD       564740 non-null float64\n",
      "ffH1000        564740 non-null float64\n",
      "ddfH1000       564740 non-null category\n",
      "mois           564740 non-null category\n",
      "ep_opt         564740 non-null float64\n",
      "dtypes: category(2), float64(16), int64(1)\n",
      "memory usage: 74.3 MB\n"
     ]
    }
   ],
   "source": [
    "data.info()"
   ]
  },
  {
   "cell_type": "code",
   "execution_count": 5,
   "metadata": {
    "collapsed": false,
    "scrolled": true
   },
   "outputs": [
    {
     "data": {
      "text/html": [
       "<div>\n",
       "<table border=\"1\" class=\"dataframe\">\n",
       "  <thead>\n",
       "    <tr style=\"text-align: right;\">\n",
       "      <th></th>\n",
       "      <th>nebsat</th>\n",
       "      <th>lat</th>\n",
       "      <th>lon</th>\n",
       "      <th>flevap3SOL0</th>\n",
       "      <th>flir3SOL0</th>\n",
       "      <th>huH2</th>\n",
       "      <th>nbSOL0</th>\n",
       "      <th>nhSOL0</th>\n",
       "      <th>nmSOL0</th>\n",
       "      <th>ntSOL0</th>\n",
       "      <th>ntSOL0em3</th>\n",
       "      <th>ntSOL0ep3</th>\n",
       "      <th>pMER0</th>\n",
       "      <th>tH2</th>\n",
       "      <th>tH2VGRAD</th>\n",
       "      <th>ffH1000</th>\n",
       "      <th>ddfH1000</th>\n",
       "      <th>mois</th>\n",
       "      <th>ep_opt</th>\n",
       "    </tr>\n",
       "  </thead>\n",
       "  <tbody>\n",
       "    <tr>\n",
       "      <th>count</th>\n",
       "      <td>564740.000000</td>\n",
       "      <td>564740.000000</td>\n",
       "      <td>564740.000000</td>\n",
       "      <td>564740.000000</td>\n",
       "      <td>5.647400e+05</td>\n",
       "      <td>564740.000000</td>\n",
       "      <td>564740.000000</td>\n",
       "      <td>564740.000000</td>\n",
       "      <td>564740.000000</td>\n",
       "      <td>564740.000000</td>\n",
       "      <td>564740.000000</td>\n",
       "      <td>564740.000000</td>\n",
       "      <td>564740.000000</td>\n",
       "      <td>564740.000000</td>\n",
       "      <td>564740.000000</td>\n",
       "      <td>564740.000000</td>\n",
       "      <td>564740</td>\n",
       "      <td>564740.0</td>\n",
       "      <td>564740.000000</td>\n",
       "    </tr>\n",
       "    <tr>\n",
       "      <th>unique</th>\n",
       "      <td>NaN</td>\n",
       "      <td>NaN</td>\n",
       "      <td>NaN</td>\n",
       "      <td>NaN</td>\n",
       "      <td>NaN</td>\n",
       "      <td>NaN</td>\n",
       "      <td>NaN</td>\n",
       "      <td>NaN</td>\n",
       "      <td>NaN</td>\n",
       "      <td>NaN</td>\n",
       "      <td>NaN</td>\n",
       "      <td>NaN</td>\n",
       "      <td>NaN</td>\n",
       "      <td>NaN</td>\n",
       "      <td>NaN</td>\n",
       "      <td>NaN</td>\n",
       "      <td>5</td>\n",
       "      <td>12.0</td>\n",
       "      <td>NaN</td>\n",
       "    </tr>\n",
       "    <tr>\n",
       "      <th>top</th>\n",
       "      <td>NaN</td>\n",
       "      <td>NaN</td>\n",
       "      <td>NaN</td>\n",
       "      <td>NaN</td>\n",
       "      <td>NaN</td>\n",
       "      <td>NaN</td>\n",
       "      <td>NaN</td>\n",
       "      <td>NaN</td>\n",
       "      <td>NaN</td>\n",
       "      <td>NaN</td>\n",
       "      <td>NaN</td>\n",
       "      <td>NaN</td>\n",
       "      <td>NaN</td>\n",
       "      <td>NaN</td>\n",
       "      <td>NaN</td>\n",
       "      <td>NaN</td>\n",
       "      <td>W</td>\n",
       "      <td>1.0</td>\n",
       "      <td>NaN</td>\n",
       "    </tr>\n",
       "    <tr>\n",
       "      <th>freq</th>\n",
       "      <td>NaN</td>\n",
       "      <td>NaN</td>\n",
       "      <td>NaN</td>\n",
       "      <td>NaN</td>\n",
       "      <td>NaN</td>\n",
       "      <td>NaN</td>\n",
       "      <td>NaN</td>\n",
       "      <td>NaN</td>\n",
       "      <td>NaN</td>\n",
       "      <td>NaN</td>\n",
       "      <td>NaN</td>\n",
       "      <td>NaN</td>\n",
       "      <td>NaN</td>\n",
       "      <td>NaN</td>\n",
       "      <td>NaN</td>\n",
       "      <td>NaN</td>\n",
       "      <td>240077</td>\n",
       "      <td>68816.0</td>\n",
       "      <td>NaN</td>\n",
       "    </tr>\n",
       "    <tr>\n",
       "      <th>mean</th>\n",
       "      <td>4.820920</td>\n",
       "      <td>46.250000</td>\n",
       "      <td>2.250000</td>\n",
       "      <td>-0.474936</td>\n",
       "      <td>-7.054922e+05</td>\n",
       "      <td>73.361713</td>\n",
       "      <td>2.423189</td>\n",
       "      <td>2.944474</td>\n",
       "      <td>1.711338</td>\n",
       "      <td>4.644797</td>\n",
       "      <td>4.413124</td>\n",
       "      <td>4.478390</td>\n",
       "      <td>1017.555260</td>\n",
       "      <td>-6.796411</td>\n",
       "      <td>13.877164</td>\n",
       "      <td>8.667317</td>\n",
       "      <td>NaN</td>\n",
       "      <td>NaN</td>\n",
       "      <td>1278.916073</td>\n",
       "    </tr>\n",
       "    <tr>\n",
       "      <th>std</th>\n",
       "      <td>3.309194</td>\n",
       "      <td>3.172147</td>\n",
       "      <td>4.905359</td>\n",
       "      <td>0.435597</td>\n",
       "      <td>4.230117e+05</td>\n",
       "      <td>18.959685</td>\n",
       "      <td>2.941553</td>\n",
       "      <td>3.056662</td>\n",
       "      <td>2.503308</td>\n",
       "      <td>3.092112</td>\n",
       "      <td>3.109472</td>\n",
       "      <td>3.087216</td>\n",
       "      <td>8.642153</td>\n",
       "      <td>3.802129</td>\n",
       "      <td>7.575208</td>\n",
       "      <td>5.741393</td>\n",
       "      <td>NaN</td>\n",
       "      <td>NaN</td>\n",
       "      <td>1849.609539</td>\n",
       "    </tr>\n",
       "    <tr>\n",
       "      <th>min</th>\n",
       "      <td>0.000000</td>\n",
       "      <td>41.000000</td>\n",
       "      <td>-6.000000</td>\n",
       "      <td>-7.233536</td>\n",
       "      <td>-2.056832e+06</td>\n",
       "      <td>7.258479</td>\n",
       "      <td>0.000000</td>\n",
       "      <td>0.000000</td>\n",
       "      <td>0.000000</td>\n",
       "      <td>0.000000</td>\n",
       "      <td>0.000000</td>\n",
       "      <td>0.000000</td>\n",
       "      <td>966.248100</td>\n",
       "      <td>-14.895390</td>\n",
       "      <td>-24.211680</td>\n",
       "      <td>0.009301</td>\n",
       "      <td>NaN</td>\n",
       "      <td>NaN</td>\n",
       "      <td>0.000000</td>\n",
       "    </tr>\n",
       "    <tr>\n",
       "      <th>25%</th>\n",
       "      <td>0.800000</td>\n",
       "      <td>43.500000</td>\n",
       "      <td>-2.000000</td>\n",
       "      <td>-0.698425</td>\n",
       "      <td>-1.041953e+06</td>\n",
       "      <td>61.178563</td>\n",
       "      <td>0.000000</td>\n",
       "      <td>0.000000</td>\n",
       "      <td>0.000000</td>\n",
       "      <td>1.500000</td>\n",
       "      <td>1.187500</td>\n",
       "      <td>1.312500</td>\n",
       "      <td>1012.591900</td>\n",
       "      <td>-9.593079</td>\n",
       "      <td>9.130487</td>\n",
       "      <td>4.325734</td>\n",
       "      <td>NaN</td>\n",
       "      <td>NaN</td>\n",
       "      <td>40.968058</td>\n",
       "    </tr>\n",
       "    <tr>\n",
       "      <th>50%</th>\n",
       "      <td>5.920000</td>\n",
       "      <td>46.250000</td>\n",
       "      <td>2.250000</td>\n",
       "      <td>-0.340012</td>\n",
       "      <td>-7.548240e+05</td>\n",
       "      <td>77.096078</td>\n",
       "      <td>0.875000</td>\n",
       "      <td>1.750000</td>\n",
       "      <td>0.062500</td>\n",
       "      <td>5.375000</td>\n",
       "      <td>4.812500</td>\n",
       "      <td>4.937500</td>\n",
       "      <td>1017.729400</td>\n",
       "      <td>-7.312012</td>\n",
       "      <td>13.938490</td>\n",
       "      <td>7.461597</td>\n",
       "      <td>NaN</td>\n",
       "      <td>NaN</td>\n",
       "      <td>535.566500</td>\n",
       "    </tr>\n",
       "    <tr>\n",
       "      <th>75%</th>\n",
       "      <td>8.000000</td>\n",
       "      <td>49.000000</td>\n",
       "      <td>6.500000</td>\n",
       "      <td>-0.147980</td>\n",
       "      <td>-3.342880e+05</td>\n",
       "      <td>88.911598</td>\n",
       "      <td>4.562500</td>\n",
       "      <td>5.937500</td>\n",
       "      <td>2.812500</td>\n",
       "      <td>7.875000</td>\n",
       "      <td>7.750000</td>\n",
       "      <td>7.750000</td>\n",
       "      <td>1023.106300</td>\n",
       "      <td>-4.551926</td>\n",
       "      <td>18.957670</td>\n",
       "      <td>11.772847</td>\n",
       "      <td>NaN</td>\n",
       "      <td>NaN</td>\n",
       "      <td>1685.488500</td>\n",
       "    </tr>\n",
       "    <tr>\n",
       "      <th>max</th>\n",
       "      <td>8.000000</td>\n",
       "      <td>51.500000</td>\n",
       "      <td>10.500000</td>\n",
       "      <td>0.626480</td>\n",
       "      <td>5.371360e+05</td>\n",
       "      <td>100.011283</td>\n",
       "      <td>8.000000</td>\n",
       "      <td>8.000000</td>\n",
       "      <td>8.000000</td>\n",
       "      <td>8.000000</td>\n",
       "      <td>8.000000</td>\n",
       "      <td>8.000000</td>\n",
       "      <td>1042.832500</td>\n",
       "      <td>12.217530</td>\n",
       "      <td>41.297020</td>\n",
       "      <td>48.338339</td>\n",
       "      <td>NaN</td>\n",
       "      <td>NaN</td>\n",
       "      <td>13582.230000</td>\n",
       "    </tr>\n",
       "  </tbody>\n",
       "</table>\n",
       "</div>"
      ],
      "text/plain": [
       "               nebsat            lat            lon    flevap3SOL0  \\\n",
       "count   564740.000000  564740.000000  564740.000000  564740.000000   \n",
       "unique            NaN            NaN            NaN            NaN   \n",
       "top               NaN            NaN            NaN            NaN   \n",
       "freq              NaN            NaN            NaN            NaN   \n",
       "mean         4.820920      46.250000       2.250000      -0.474936   \n",
       "std          3.309194       3.172147       4.905359       0.435597   \n",
       "min          0.000000      41.000000      -6.000000      -7.233536   \n",
       "25%          0.800000      43.500000      -2.000000      -0.698425   \n",
       "50%          5.920000      46.250000       2.250000      -0.340012   \n",
       "75%          8.000000      49.000000       6.500000      -0.147980   \n",
       "max          8.000000      51.500000      10.500000       0.626480   \n",
       "\n",
       "           flir3SOL0           huH2         nbSOL0         nhSOL0  \\\n",
       "count   5.647400e+05  564740.000000  564740.000000  564740.000000   \n",
       "unique           NaN            NaN            NaN            NaN   \n",
       "top              NaN            NaN            NaN            NaN   \n",
       "freq             NaN            NaN            NaN            NaN   \n",
       "mean   -7.054922e+05      73.361713       2.423189       2.944474   \n",
       "std     4.230117e+05      18.959685       2.941553       3.056662   \n",
       "min    -2.056832e+06       7.258479       0.000000       0.000000   \n",
       "25%    -1.041953e+06      61.178563       0.000000       0.000000   \n",
       "50%    -7.548240e+05      77.096078       0.875000       1.750000   \n",
       "75%    -3.342880e+05      88.911598       4.562500       5.937500   \n",
       "max     5.371360e+05     100.011283       8.000000       8.000000   \n",
       "\n",
       "               nmSOL0         ntSOL0      ntSOL0em3      ntSOL0ep3  \\\n",
       "count   564740.000000  564740.000000  564740.000000  564740.000000   \n",
       "unique            NaN            NaN            NaN            NaN   \n",
       "top               NaN            NaN            NaN            NaN   \n",
       "freq              NaN            NaN            NaN            NaN   \n",
       "mean         1.711338       4.644797       4.413124       4.478390   \n",
       "std          2.503308       3.092112       3.109472       3.087216   \n",
       "min          0.000000       0.000000       0.000000       0.000000   \n",
       "25%          0.000000       1.500000       1.187500       1.312500   \n",
       "50%          0.062500       5.375000       4.812500       4.937500   \n",
       "75%          2.812500       7.875000       7.750000       7.750000   \n",
       "max          8.000000       8.000000       8.000000       8.000000   \n",
       "\n",
       "                pMER0            tH2       tH2VGRAD        ffH1000 ddfH1000  \\\n",
       "count   564740.000000  564740.000000  564740.000000  564740.000000   564740   \n",
       "unique            NaN            NaN            NaN            NaN        5   \n",
       "top               NaN            NaN            NaN            NaN        W   \n",
       "freq              NaN            NaN            NaN            NaN   240077   \n",
       "mean      1017.555260      -6.796411      13.877164       8.667317      NaN   \n",
       "std          8.642153       3.802129       7.575208       5.741393      NaN   \n",
       "min        966.248100     -14.895390     -24.211680       0.009301      NaN   \n",
       "25%       1012.591900      -9.593079       9.130487       4.325734      NaN   \n",
       "50%       1017.729400      -7.312012      13.938490       7.461597      NaN   \n",
       "75%       1023.106300      -4.551926      18.957670      11.772847      NaN   \n",
       "max       1042.832500      12.217530      41.297020      48.338339      NaN   \n",
       "\n",
       "            mois         ep_opt  \n",
       "count   564740.0  564740.000000  \n",
       "unique      12.0            NaN  \n",
       "top          1.0            NaN  \n",
       "freq     68816.0            NaN  \n",
       "mean         NaN    1278.916073  \n",
       "std          NaN    1849.609539  \n",
       "min          NaN       0.000000  \n",
       "25%          NaN      40.968058  \n",
       "50%          NaN     535.566500  \n",
       "75%          NaN    1685.488500  \n",
       "max          NaN   13582.230000  "
      ]
     },
     "execution_count": 5,
     "metadata": {},
     "output_type": "execute_result"
    }
   ],
   "source": [
    "data.describe(include='all')"
   ]
  },
  {
   "cell_type": "code",
   "execution_count": 6,
   "metadata": {
    "collapsed": false,
    "scrolled": false
   },
   "outputs": [
    {
     "name": "stdout",
     "output_type": "stream",
     "text": [
      "<class 'pandas.core.frame.DataFrame'>\n",
      "RangeIndex: 564740 entries, 0 to 564739\n",
      "Data columns (total 22 columns):\n",
      "nebsat           564740 non-null float64\n",
      "lat              564740 non-null float64\n",
      "lon              564740 non-null float64\n",
      "flevap3SOL0      564740 non-null float64\n",
      "flir3SOL0        564740 non-null int64\n",
      "nbSOL0           564740 non-null float64\n",
      "nhSOL0           564740 non-null float64\n",
      "nmSOL0           564740 non-null float64\n",
      "ntSOL0           564740 non-null float64\n",
      "ntSOL0em3        564740 non-null float64\n",
      "ntSOL0ep3        564740 non-null float64\n",
      "pMER0            564740 non-null float64\n",
      "tH2              564740 non-null float64\n",
      "tH2VGRAD         564740 non-null float64\n",
      "ddfH1000         564740 non-null category\n",
      "mois             564740 non-null category\n",
      "ep_opt           564740 non-null float64\n",
      "Sq_huH2          564740 non-null float64\n",
      "sqrt_ffH1000     564740 non-null float64\n",
      "sq_tH2           564740 non-null float64\n",
      "sq_tH2VGRAD      564740 non-null float64\n",
      "nbSOL0:ep_opt    564740 non-null float64\n",
      "dtypes: category(2), float64(19), int64(1)\n",
      "memory usage: 87.2 MB\n"
     ]
    }
   ],
   "source": [
    "from math import sqrt,log\n",
    "data[\"Sq_huH2\"]=data[\"huH2\"].map(lambda x: x**2)\n",
    "data[\"sqrt_ffH1000\"]=data[\"ffH1000\"].map(lambda x: sqrt(x))\n",
    "data[\"sq_tH2\"]=data[\"tH2\"].map(lambda x : x**2)\n",
    "data[\"sq_tH2VGRAD\"]=data[\"tH2VGRAD\"].map(lambda x : x**2)\n",
    "data[\"nbSOL0:ep_opt\"]=data[\"nbSOL0\"]*data[\"ep_opt\"]\n",
    "del data[\"huH2\"]\n",
    "del data[\"ffH1000\"]\n",
    "\n",
    "data[\"nebsat\"]=data[\"nebsat\"].map(lambda x: 100*x/8)\n",
    "data[\"ntSOL0\"]=data[\"ntSOL0\"].map(lambda x: 100*x/8)\n",
    "data.info()"
   ]
  },
  {
   "cell_type": "code",
   "execution_count": 7,
   "metadata": {
    "collapsed": false
   },
   "outputs": [
    {
     "data": {
      "image/png": "[encoded data removed]",
      "text/plain": [
       "<matplotlib.figure.Figure at 0x7fb94e2366d0>"
      ]
     },
     "metadata": {},
     "output_type": "display_data"
    }
   ],
   "source": [
    "data[\"nebsat\"].hist()\n",
    "plt.show()"
   ]
  },
  {
   "cell_type": "code",
   "execution_count": 8,
   "metadata": {
    "collapsed": true
   },
   "outputs": [],
   "source": [
    "def classes(x):\n",
    "    y=x\n",
    "    y[(y<=10) & (y>0)]=2\n",
    "    y[(y>10) & (y<=25)]=3\n",
    "    y[(y>25) & (y<=50)]=4\n",
    "    y[(y>50) & (y<=75)]=5\n",
    "    y[y>75]=6\n",
    "    y[y==0]=1\n",
    "    return y"
   ]
  },
  {
   "cell_type": "code",
   "execution_count": 9,
   "metadata": {
    "collapsed": false
   },
   "outputs": [
    {
     "name": "stdout",
     "output_type": "stream",
     "text": [
      "<class 'pandas.core.frame.DataFrame'>\n",
      "RangeIndex: 564740 entries, 0 to 564739\n",
      "Data columns (total 21 columns):\n",
      "lat              564740 non-null float64\n",
      "lon              564740 non-null float64\n",
      "flevap3SOL0      564740 non-null float64\n",
      "flir3SOL0        564740 non-null int64\n",
      "nbSOL0           564740 non-null float64\n",
      "nhSOL0           564740 non-null float64\n",
      "nmSOL0           564740 non-null float64\n",
      "ntSOL0           564740 non-null float64\n",
      "ntSOL0em3        564740 non-null float64\n",
      "ntSOL0ep3        564740 non-null float64\n",
      "pMER0            564740 non-null float64\n",
      "tH2              564740 non-null float64\n",
      "tH2VGRAD         564740 non-null float64\n",
      "ddfH1000         564740 non-null category\n",
      "mois             564740 non-null category\n",
      "ep_opt           564740 non-null float64\n",
      "Sq_huH2          564740 non-null float64\n",
      "sqrt_ffH1000     564740 non-null float64\n",
      "sq_tH2           564740 non-null float64\n",
      "sq_tH2VGRAD      564740 non-null float64\n",
      "nbSOL0:ep_opt    564740 non-null float64\n",
      "dtypes: category(2), float64(18), int64(1)\n",
      "memory usage: 82.9 MB\n"
     ]
    }
   ],
   "source": [
    "neb=data[\"nebsat\"][ : :]\n",
    "nebC=classes(neb)\n",
    "data[\"nebsatC\"]=nebC\n",
    "del data[\"nebsat\"]\n",
    "nebsat=data.iloc[:,21]\n",
    "data.drop(data.columns[[21]], axis=1,inplace=True)\n",
    "data.info()"
   ]
  },
  {
   "cell_type": "markdown",
   "metadata": {},
   "source": [
    "On normalise les variables explicatives quantitatives, avant de les concaténer avec les variables explicatives qualitatives."
   ]
  },
  {
   "cell_type": "code",
   "execution_count": 10,
   "metadata": {
    "collapsed": false
   },
   "outputs": [],
   "source": [
    "from sklearn.preprocessing import StandardScaler \n",
    "nebsatDum=pd.get_dummies(data[[\"mois\",\"ddfH1000\"]])\n",
    "nebsatQuant=data[[\"lat\",\"lon\",\"flevap3SOL0\",\"flir3SOL0\",\"Sq_huH2\",\"nbSOL0\",\"nhSOL0\",\"nmSOL0\",\"ntSOL0\",\"ntSOL0em3\",\"ntSOL0ep3\",\"pMER0\",\"tH2\",\"tH2VGRAD\",\"sqrt_ffH1000\",\"ep_opt\",\"sq_tH2\",\"sq_tH2VGRAD\",\"nbSOL0:ep_opt\"]]\n",
    "\n",
    "scaler = StandardScaler()  \n",
    "scaler.fit(nebsatQuant)  \n",
    "nebsatQuant = scaler.transform(nebsatQuant) \n",
    "nebsatQuant=pd.DataFrame(nebsatQuant,columns=[[\"lat\",\"lon\",\"flevap3SOL0\",\"flir3SOL0\",\"Sq_huH2\",\"nbSOL0\",\"nhSOL0\",\"nmSOL0\",\"ntSOL0\",\"ntSOL0em3\",\"ntSOL0ep3\",\"pMER0\",\"tH2\",\"tH2VGRAD\",\"sqrt_ffH1000\",\"ep_opt\",\"sq_tH2\",\"sq_tH2VGRAD\",\"nbSOL0:ep_opt\"]])\n",
    "\n",
    "data=pd.concat([nebsatDum,nebsatQuant],axis=1)\n"
   ]
  },
  {
   "cell_type": "code",
   "execution_count": 11,
   "metadata": {
    "collapsed": true
   },
   "outputs": [],
   "source": [
    "scaler = StandardScaler()  \n",
    "scaler.fit(nebsatQuant)  \n",
    "nebsatQuant = scaler.transform(nebsatQuant) "
   ]
  },
  {
   "cell_type": "code",
   "execution_count": 12,
   "metadata": {
    "collapsed": false
   },
   "outputs": [
    {
     "data": {
      "text/html": [
       "<div>\n",
       "<table border=\"1\" class=\"dataframe\">\n",
       "  <thead>\n",
       "    <tr style=\"text-align: right;\">\n",
       "      <th></th>\n",
       "      <th>mois_1</th>\n",
       "      <th>mois_2</th>\n",
       "      <th>mois_3</th>\n",
       "      <th>mois_4</th>\n",
       "      <th>mois_5</th>\n",
       "      <th>mois_6</th>\n",
       "      <th>mois_7</th>\n",
       "      <th>mois_8</th>\n",
       "      <th>mois_9</th>\n",
       "      <th>mois_10</th>\n",
       "      <th>...</th>\n",
       "      <th>ntSOL0em3</th>\n",
       "      <th>ntSOL0ep3</th>\n",
       "      <th>pMER0</th>\n",
       "      <th>tH2</th>\n",
       "      <th>tH2VGRAD</th>\n",
       "      <th>sqrt_ffH1000</th>\n",
       "      <th>ep_opt</th>\n",
       "      <th>sq_tH2</th>\n",
       "      <th>sq_tH2VGRAD</th>\n",
       "      <th>nbSOL0:ep_opt</th>\n",
       "    </tr>\n",
       "  </thead>\n",
       "  <tbody>\n",
       "    <tr>\n",
       "      <th>0</th>\n",
       "      <td>1.0</td>\n",
       "      <td>0.0</td>\n",
       "      <td>0.0</td>\n",
       "      <td>0.0</td>\n",
       "      <td>0.0</td>\n",
       "      <td>0.0</td>\n",
       "      <td>0.0</td>\n",
       "      <td>0.0</td>\n",
       "      <td>0.0</td>\n",
       "      <td>0.0</td>\n",
       "      <td>...</td>\n",
       "      <td>1.093234</td>\n",
       "      <td>0.958505</td>\n",
       "      <td>0.758532</td>\n",
       "      <td>0.542294</td>\n",
       "      <td>-1.153055</td>\n",
       "      <td>-0.738160</td>\n",
       "      <td>0.862178</td>\n",
       "      <td>-0.833710</td>\n",
       "      <td>-1.028974</td>\n",
       "      <td>0.966624</td>\n",
       "    </tr>\n",
       "    <tr>\n",
       "      <th>1</th>\n",
       "      <td>1.0</td>\n",
       "      <td>0.0</td>\n",
       "      <td>0.0</td>\n",
       "      <td>0.0</td>\n",
       "      <td>0.0</td>\n",
       "      <td>0.0</td>\n",
       "      <td>0.0</td>\n",
       "      <td>0.0</td>\n",
       "      <td>0.0</td>\n",
       "      <td>0.0</td>\n",
       "      <td>...</td>\n",
       "      <td>0.590736</td>\n",
       "      <td>1.140708</td>\n",
       "      <td>0.751589</td>\n",
       "      <td>0.538184</td>\n",
       "      <td>-1.167493</td>\n",
       "      <td>-0.647254</td>\n",
       "      <td>1.915048</td>\n",
       "      <td>-0.830478</td>\n",
       "      <td>-1.034098</td>\n",
       "      <td>2.146143</td>\n",
       "    </tr>\n",
       "    <tr>\n",
       "      <th>2</th>\n",
       "      <td>1.0</td>\n",
       "      <td>0.0</td>\n",
       "      <td>0.0</td>\n",
       "      <td>0.0</td>\n",
       "      <td>0.0</td>\n",
       "      <td>0.0</td>\n",
       "      <td>0.0</td>\n",
       "      <td>0.0</td>\n",
       "      <td>0.0</td>\n",
       "      <td>0.0</td>\n",
       "      <td>...</td>\n",
       "      <td>0.952534</td>\n",
       "      <td>1.120464</td>\n",
       "      <td>0.765474</td>\n",
       "      <td>0.645032</td>\n",
       "      <td>-1.260313</td>\n",
       "      <td>-0.829672</td>\n",
       "      <td>2.315028</td>\n",
       "      <td>-0.911043</td>\n",
       "      <td>-1.064406</td>\n",
       "      <td>2.528275</td>\n",
       "    </tr>\n",
       "    <tr>\n",
       "      <th>3</th>\n",
       "      <td>1.0</td>\n",
       "      <td>0.0</td>\n",
       "      <td>0.0</td>\n",
       "      <td>0.0</td>\n",
       "      <td>0.0</td>\n",
       "      <td>0.0</td>\n",
       "      <td>0.0</td>\n",
       "      <td>0.0</td>\n",
       "      <td>0.0</td>\n",
       "      <td>0.0</td>\n",
       "      <td>...</td>\n",
       "      <td>1.153533</td>\n",
       "      <td>1.039484</td>\n",
       "      <td>0.740018</td>\n",
       "      <td>0.550513</td>\n",
       "      <td>-1.287127</td>\n",
       "      <td>-0.300753</td>\n",
       "      <td>1.742455</td>\n",
       "      <td>-0.840141</td>\n",
       "      <td>-1.072314</td>\n",
       "      <td>1.874465</td>\n",
       "    </tr>\n",
       "    <tr>\n",
       "      <th>4</th>\n",
       "      <td>1.0</td>\n",
       "      <td>0.0</td>\n",
       "      <td>0.0</td>\n",
       "      <td>0.0</td>\n",
       "      <td>0.0</td>\n",
       "      <td>0.0</td>\n",
       "      <td>0.0</td>\n",
       "      <td>0.0</td>\n",
       "      <td>0.0</td>\n",
       "      <td>0.0</td>\n",
       "      <td>...</td>\n",
       "      <td>1.153533</td>\n",
       "      <td>1.120464</td>\n",
       "      <td>0.683319</td>\n",
       "      <td>0.147777</td>\n",
       "      <td>-1.371696</td>\n",
       "      <td>0.018675</td>\n",
       "      <td>2.498616</td>\n",
       "      <td>-0.474907</td>\n",
       "      <td>-1.094767</td>\n",
       "      <td>2.713157</td>\n",
       "    </tr>\n",
       "  </tbody>\n",
       "</table>\n",
       "<p>5 rows × 36 columns</p>\n",
       "</div>"
      ],
      "text/plain": [
       "   mois_1  mois_2  mois_3  mois_4  mois_5  mois_6  mois_7  mois_8  mois_9  \\\n",
       "0     1.0     0.0     0.0     0.0     0.0     0.0     0.0     0.0     0.0   \n",
       "1     1.0     0.0     0.0     0.0     0.0     0.0     0.0     0.0     0.0   \n",
       "2     1.0     0.0     0.0     0.0     0.0     0.0     0.0     0.0     0.0   \n",
       "3     1.0     0.0     0.0     0.0     0.0     0.0     0.0     0.0     0.0   \n",
       "4     1.0     0.0     0.0     0.0     0.0     0.0     0.0     0.0     0.0   \n",
       "\n",
       "   mois_10      ...        ntSOL0em3  ntSOL0ep3     pMER0       tH2  tH2VGRAD  \\\n",
       "0      0.0      ...         1.093234   0.958505  0.758532  0.542294 -1.153055   \n",
       "1      0.0      ...         0.590736   1.140708  0.751589  0.538184 -1.167493   \n",
       "2      0.0      ...         0.952534   1.120464  0.765474  0.645032 -1.260313   \n",
       "3      0.0      ...         1.153533   1.039484  0.740018  0.550513 -1.287127   \n",
       "4      0.0      ...         1.153533   1.120464  0.683319  0.147777 -1.371696   \n",
       "\n",
       "   sqrt_ffH1000    ep_opt    sq_tH2  sq_tH2VGRAD  nbSOL0:ep_opt  \n",
       "0     -0.738160  0.862178 -0.833710    -1.028974       0.966624  \n",
       "1     -0.647254  1.915048 -0.830478    -1.034098       2.146143  \n",
       "2     -0.829672  2.315028 -0.911043    -1.064406       2.528275  \n",
       "3     -0.300753  1.742455 -0.840141    -1.072314       1.874465  \n",
       "4      0.018675  2.498616 -0.474907    -1.094767       2.713157  \n",
       "\n",
       "[5 rows x 36 columns]"
      ]
     },
     "execution_count": 12,
     "metadata": {},
     "output_type": "execute_result"
    }
   ],
   "source": [
    "data.head()"
   ]
  },
  {
   "cell_type": "code",
   "execution_count": 13,
   "metadata": {
    "collapsed": false
   },
   "outputs": [
    {
     "name": "stdout",
     "output_type": "stream",
     "text": [
      "<class 'pandas.core.frame.DataFrame'>\n",
      "RangeIndex: 564740 entries, 0 to 564739\n",
      "Data columns (total 36 columns):\n",
      "mois_1           564740 non-null float64\n",
      "mois_2           564740 non-null float64\n",
      "mois_3           564740 non-null float64\n",
      "mois_4           564740 non-null float64\n",
      "mois_5           564740 non-null float64\n",
      "mois_6           564740 non-null float64\n",
      "mois_7           564740 non-null float64\n",
      "mois_8           564740 non-null float64\n",
      "mois_9           564740 non-null float64\n",
      "mois_10          564740 non-null float64\n",
      "mois_11          564740 non-null float64\n",
      "mois_12          564740 non-null float64\n",
      "ddfH1000_C       564740 non-null float64\n",
      "ddfH1000_E       564740 non-null float64\n",
      "ddfH1000_N       564740 non-null float64\n",
      "ddfH1000_S       564740 non-null float64\n",
      "ddfH1000_W       564740 non-null float64\n",
      "lat              564740 non-null float64\n",
      "lon              564740 non-null float64\n",
      "flevap3SOL0      564740 non-null float64\n",
      "flir3SOL0        564740 non-null float64\n",
      "Sq_huH2          564740 non-null float64\n",
      "nbSOL0           564740 non-null float64\n",
      "nhSOL0           564740 non-null float64\n",
      "nmSOL0           564740 non-null float64\n",
      "ntSOL0           564740 non-null float64\n",
      "ntSOL0em3        564740 non-null float64\n",
      "ntSOL0ep3        564740 non-null float64\n",
      "pMER0            564740 non-null float64\n",
      "tH2              564740 non-null float64\n",
      "tH2VGRAD         564740 non-null float64\n",
      "sqrt_ffH1000     564740 non-null float64\n",
      "ep_opt           564740 non-null float64\n",
      "sq_tH2           564740 non-null float64\n",
      "sq_tH2VGRAD      564740 non-null float64\n",
      "nbSOL0:ep_opt    564740 non-null float64\n",
      "dtypes: float64(36)\n",
      "memory usage: 155.1 MB\n"
     ]
    }
   ],
   "source": [
    "data.info()"
   ]
  },
  {
   "cell_type": "code",
   "execution_count": 14,
   "metadata": {
    "collapsed": false
   },
   "outputs": [
    {
     "name": "stderr",
     "output_type": "stream",
     "text": [
      "/home/pruilh/Enthought/Canopy_64bit/User/lib/python2.7/site-packages/sklearn/cross_validation.py:44: DeprecationWarning: This module was deprecated in version 0.18 in favor of the model_selection module into which all the refactored classes and functions are moved. Also note that the interface of the new CV iterators are different from that of this module. This module will be removed in 0.20.\n",
      "  \"This module will be removed in 0.20.\", DeprecationWarning)\n",
      "/home/pruilh/Enthought/Canopy_64bit/User/lib/python2.7/site-packages/sklearn/grid_search.py:43: DeprecationWarning: This module was deprecated in version 0.18 in favor of the model_selection module into which all the refactored classes and functions are moved. This module will be removed in 0.20.\n",
      "  DeprecationWarning)\n"
     ]
    }
   ],
   "source": [
    "from sklearn.ensemble import RandomForestClassifier\n",
    "from sklearn.ensemble import RandomForestRegressor\n",
    "from sklearn.model_selection import train_test_split\n",
    "from sklearn.metrics import confusion_matrix\n",
    "from sklearn.neighbors import KNeighborsClassifier\n",
    "from sklearn.neighbors import KNeighborsRegressor\n",
    "from sklearn.grid_search import GridSearchCV\n",
    "from sklearn.neural_network import MLPClassifier\n",
    "from sklearn.neural_network import MLPRegressor\n",
    "from sklearn.preprocessing import StandardScaler "
   ]
  },
  {
   "cell_type": "markdown",
   "metadata": {},
   "source": [
    "# 2  $K$ plus proches voisins"
   ]
  },
  {
   "cell_type": "code",
   "execution_count": 28,
   "metadata": {
    "collapsed": true
   },
   "outputs": [],
   "source": [
    "X_train,X_test,Y_train,Y_test=train_test_split(data,nebsat,test_size=1000)"
   ]
  },
  {
   "cell_type": "code",
   "execution_count": 29,
   "metadata": {
    "collapsed": false
   },
   "outputs": [],
   "source": [
    "#Tests \"manuels\" du nombre de voisins, avec deux paramètres de poids (pour les voisins)\n",
    "#weights=\"uniform\" : même pondération pour chaque voisins\n",
    "#weights=\"distance\" : les voisins les plus proches ont plus d'importance\n",
    "erreur_array1=np.empty((7, 1))\n",
    "erreur_array2=np.empty((7, 1))\n",
    "erreur_arrayr=np.empty((7, 1))\n",
    "nb_voisins =np.array([5,7,9,11,13,15,17])\n",
    "\n",
    "for k in range(0,7) :\n",
    "    knn1 = KNeighborsClassifier(n_neighbors=nb_voisins[k], weights=\"uniform\")\n",
    "    knn2 = KNeighborsClassifier(n_neighbors=nb_voisins[k], weights=\"distance\")\n",
    "    knnr= KNeighborsRegressor(n_neighbors=nb_voisins[k], weights=\"uniform\")\n",
    "    resu_knn1 = knn1.fit(X_train, Y_train)\n",
    "    resu_knn2 = knn2.fit(X_train, Y_train)\n",
    "    resu_knnr = knnr.fit(X_train, Y_train)\n",
    "    erreur_array1[k]=1-resu_knn1.score(X_test,Y_test)\n",
    "    erreur_array2[k]=1-resu_knn2.score(X_test,Y_test)\n",
    "    erreur_arrayr[k]=1-resu_knnr.score(X_test,Y_test)\n"
   ]
  },
  {
   "cell_type": "code",
   "execution_count": 33,
   "metadata": {
    "collapsed": false,
    "scrolled": true
   },
   "outputs": [
    {
     "data": {
      "text/plain": [
       "<matplotlib.text.Text at 0x7f8166016198>"
      ]
     },
     "execution_count": 33,
     "metadata": {},
     "output_type": "execute_result"
    },
    {
     "data": {
      "image/png": "[encoded data removed]",
      "text/plain": [
       "<matplotlib.figure.Figure at 0x7f81663cbb70>"
      ]
     },
     "metadata": {},
     "output_type": "display_data"
    }
   ],
   "source": [
    "plt.figure(figsize = (12, 5))\n",
    "plt.subplot(1,2,1)\n",
    "plt.plot(nb_voisins,erreur_array1)\n",
    "plt.xlabel('Nombre de voisins')\n",
    "plt.ylabel('erreur avec poids uniformes')\n",
    "\n",
    "plt.subplot(1,2,2)\n",
    "plt.plot(nb_voisins,erreur_array2)\n",
    "plt.xlabel('Nombre de voisins')\n",
    "plt.ylabel('erreur avec poids inverse distance')"
   ]
  },
  {
   "cell_type": "code",
   "execution_count": 32,
   "metadata": {
    "collapsed": false
   },
   "outputs": [
    {
     "data": {
      "text/plain": [
       "<matplotlib.text.Text at 0x7f8166177470>"
      ]
     },
     "execution_count": 32,
     "metadata": {},
     "output_type": "execute_result"
    },
    {
     "data": {
      "image/png": "[encoded data removed]",
      "text/plain": [
       "<matplotlib.figure.Figure at 0x7f81662c9cc0>"
      ]
     },
     "metadata": {},
     "output_type": "display_data"
    }
   ],
   "source": [
    "plt.figure(figsize = (12, 5))\n",
    "plt.subplot(1,2,1)\n",
    "plt.plot(nb_voisins,erreur_array1)\n",
    "plt.xlabel('Nombre de voisins')\n",
    "plt.ylabel('erreur pour knn-classifier')\n",
    "\n",
    "plt.subplot(1,2,2)\n",
    "plt.plot(nb_voisins,erreur_arrayr)\n",
    "plt.xlabel('Nombre de voisins')\n",
    "plt.ylabel('erreur pour knn-regressor')"
   ]
  },
  {
   "cell_type": "code",
   "execution_count": 76,
   "metadata": {
    "collapsed": false
   },
   "outputs": [
    {
     "ename": "KeyboardInterrupt",
     "evalue": "",
     "output_type": "error",
     "traceback": [
      "\u001b[0;31m---------------------------------------------------------------------------\u001b[0m",
      "\u001b[0;31mKeyboardInterrupt\u001b[0m                         Traceback (most recent call last)",
      "\u001b[0;32m<ipython-input-76-abd78cd3dae1>\u001b[0m in \u001b[0;36m<module>\u001b[0;34m()\u001b[0m\n\u001b[1;32m      6\u001b[0m     \u001b[0mtps1\u001b[0m \u001b[0;34m=\u001b[0m \u001b[0mtime\u001b[0m\u001b[0;34m.\u001b[0m\u001b[0mclock\u001b[0m\u001b[0;34m(\u001b[0m\u001b[0;34m)\u001b[0m\u001b[0;34m\u001b[0m\u001b[0m\n\u001b[1;32m      7\u001b[0m     \u001b[0mknn\u001b[0m \u001b[0;34m=\u001b[0m \u001b[0mGridSearchCV\u001b[0m\u001b[0;34m(\u001b[0m\u001b[0mKNeighborsClassifier\u001b[0m\u001b[0;34m(\u001b[0m\u001b[0;34m)\u001b[0m\u001b[0;34m,\u001b[0m\u001b[0mparam\u001b[0m\u001b[0;34m,\u001b[0m\u001b[0mcv\u001b[0m\u001b[0;34m=\u001b[0m\u001b[0;36m5\u001b[0m\u001b[0;34m,\u001b[0m\u001b[0mn_jobs\u001b[0m\u001b[0;34m=\u001b[0m\u001b[0;34m-\u001b[0m\u001b[0;36m1\u001b[0m\u001b[0;34m)\u001b[0m\u001b[0;34m\u001b[0m\u001b[0m\n\u001b[0;32m----> 8\u001b[0;31m     \u001b[0mdigit_knn\u001b[0m\u001b[0;34m=\u001b[0m\u001b[0mknn\u001b[0m\u001b[0;34m.\u001b[0m\u001b[0mfit\u001b[0m\u001b[0;34m(\u001b[0m\u001b[0mX_train\u001b[0m\u001b[0;34m,\u001b[0m \u001b[0mY_train\u001b[0m\u001b[0;34m)\u001b[0m\u001b[0;34m\u001b[0m\u001b[0m\n\u001b[0m\u001b[1;32m      9\u001b[0m     \u001b[0mtps2\u001b[0m \u001b[0;34m=\u001b[0m \u001b[0mtime\u001b[0m\u001b[0;34m.\u001b[0m\u001b[0mclock\u001b[0m\u001b[0;34m(\u001b[0m\u001b[0;34m)\u001b[0m\u001b[0;34m\u001b[0m\u001b[0m\n\u001b[1;32m     10\u001b[0m     \u001b[0marray_erreur\u001b[0m\u001b[0;34m[\u001b[0m\u001b[0mi\u001b[0m\u001b[0;34m]\u001b[0m\u001b[0;34m=\u001b[0m\u001b[0;36m1\u001b[0m\u001b[0;34m-\u001b[0m\u001b[0mdigit_knn\u001b[0m\u001b[0;34m.\u001b[0m\u001b[0mscore\u001b[0m\u001b[0;34m(\u001b[0m\u001b[0mX_test\u001b[0m\u001b[0;34m,\u001b[0m\u001b[0mY_test\u001b[0m\u001b[0;34m)\u001b[0m\u001b[0;34m\u001b[0m\u001b[0m\n",
      "\u001b[0;32m/home/eva-xubuntu/anaconda3/lib/python3.6/site-packages/sklearn/grid_search.py\u001b[0m in \u001b[0;36mfit\u001b[0;34m(self, X, y)\u001b[0m\n\u001b[1;32m    827\u001b[0m \u001b[0;34m\u001b[0m\u001b[0m\n\u001b[1;32m    828\u001b[0m         \"\"\"\n\u001b[0;32m--> 829\u001b[0;31m         \u001b[0;32mreturn\u001b[0m \u001b[0mself\u001b[0m\u001b[0;34m.\u001b[0m\u001b[0m_fit\u001b[0m\u001b[0;34m(\u001b[0m\u001b[0mX\u001b[0m\u001b[0;34m,\u001b[0m \u001b[0my\u001b[0m\u001b[0;34m,\u001b[0m \u001b[0mParameterGrid\u001b[0m\u001b[0;34m(\u001b[0m\u001b[0mself\u001b[0m\u001b[0;34m.\u001b[0m\u001b[0mparam_grid\u001b[0m\u001b[0;34m)\u001b[0m\u001b[0;34m)\u001b[0m\u001b[0;34m\u001b[0m\u001b[0m\n\u001b[0m\u001b[1;32m    830\u001b[0m \u001b[0;34m\u001b[0m\u001b[0m\n\u001b[1;32m    831\u001b[0m \u001b[0;34m\u001b[0m\u001b[0m\n",
      "\u001b[0;32m/home/eva-xubuntu/anaconda3/lib/python3.6/site-packages/sklearn/grid_search.py\u001b[0m in \u001b[0;36m_fit\u001b[0;34m(self, X, y, parameter_iterable)\u001b[0m\n\u001b[1;32m    571\u001b[0m                                     \u001b[0mself\u001b[0m\u001b[0;34m.\u001b[0m\u001b[0mfit_params\u001b[0m\u001b[0;34m,\u001b[0m \u001b[0mreturn_parameters\u001b[0m\u001b[0;34m=\u001b[0m\u001b[0;32mTrue\u001b[0m\u001b[0;34m,\u001b[0m\u001b[0;34m\u001b[0m\u001b[0m\n\u001b[1;32m    572\u001b[0m                                     error_score=self.error_score)\n\u001b[0;32m--> 573\u001b[0;31m                 \u001b[0;32mfor\u001b[0m \u001b[0mparameters\u001b[0m \u001b[0;32min\u001b[0m \u001b[0mparameter_iterable\u001b[0m\u001b[0;34m\u001b[0m\u001b[0m\n\u001b[0m\u001b[1;32m    574\u001b[0m                 for train, test in cv)\n\u001b[1;32m    575\u001b[0m \u001b[0;34m\u001b[0m\u001b[0m\n",
      "\u001b[0;32m/home/eva-xubuntu/anaconda3/lib/python3.6/site-packages/sklearn/externals/joblib/parallel.py\u001b[0m in \u001b[0;36m__call__\u001b[0;34m(self, iterable)\u001b[0m\n\u001b[1;32m    766\u001b[0m                 \u001b[0;31m# consumption.\u001b[0m\u001b[0;34m\u001b[0m\u001b[0;34m\u001b[0m\u001b[0m\n\u001b[1;32m    767\u001b[0m                 \u001b[0mself\u001b[0m\u001b[0;34m.\u001b[0m\u001b[0m_iterating\u001b[0m \u001b[0;34m=\u001b[0m \u001b[0;32mFalse\u001b[0m\u001b[0;34m\u001b[0m\u001b[0m\n\u001b[0;32m--> 768\u001b[0;31m             \u001b[0mself\u001b[0m\u001b[0;34m.\u001b[0m\u001b[0mretrieve\u001b[0m\u001b[0;34m(\u001b[0m\u001b[0;34m)\u001b[0m\u001b[0;34m\u001b[0m\u001b[0m\n\u001b[0m\u001b[1;32m    769\u001b[0m             \u001b[0;31m# Make sure that we get a last message telling us we are done\u001b[0m\u001b[0;34m\u001b[0m\u001b[0;34m\u001b[0m\u001b[0m\n\u001b[1;32m    770\u001b[0m             \u001b[0melapsed_time\u001b[0m \u001b[0;34m=\u001b[0m \u001b[0mtime\u001b[0m\u001b[0;34m.\u001b[0m\u001b[0mtime\u001b[0m\u001b[0;34m(\u001b[0m\u001b[0;34m)\u001b[0m \u001b[0;34m-\u001b[0m \u001b[0mself\u001b[0m\u001b[0;34m.\u001b[0m\u001b[0m_start_time\u001b[0m\u001b[0;34m\u001b[0m\u001b[0m\n",
      "\u001b[0;32m/home/eva-xubuntu/anaconda3/lib/python3.6/site-packages/sklearn/externals/joblib/parallel.py\u001b[0m in \u001b[0;36mretrieve\u001b[0;34m(self)\u001b[0m\n\u001b[1;32m    717\u001b[0m                     \u001b[0mensure_ready\u001b[0m \u001b[0;34m=\u001b[0m \u001b[0mself\u001b[0m\u001b[0;34m.\u001b[0m\u001b[0m_managed_backend\u001b[0m\u001b[0;34m\u001b[0m\u001b[0m\n\u001b[1;32m    718\u001b[0m                     \u001b[0mbackend\u001b[0m\u001b[0;34m.\u001b[0m\u001b[0mabort_everything\u001b[0m\u001b[0;34m(\u001b[0m\u001b[0mensure_ready\u001b[0m\u001b[0;34m=\u001b[0m\u001b[0mensure_ready\u001b[0m\u001b[0;34m)\u001b[0m\u001b[0;34m\u001b[0m\u001b[0m\n\u001b[0;32m--> 719\u001b[0;31m                 \u001b[0;32mraise\u001b[0m \u001b[0mexception\u001b[0m\u001b[0;34m\u001b[0m\u001b[0m\n\u001b[0m\u001b[1;32m    720\u001b[0m \u001b[0;34m\u001b[0m\u001b[0m\n\u001b[1;32m    721\u001b[0m     \u001b[0;32mdef\u001b[0m \u001b[0m__call__\u001b[0m\u001b[0;34m(\u001b[0m\u001b[0mself\u001b[0m\u001b[0;34m,\u001b[0m \u001b[0miterable\u001b[0m\u001b[0;34m)\u001b[0m\u001b[0;34m:\u001b[0m\u001b[0;34m\u001b[0m\u001b[0m\n",
      "\u001b[0;32m/home/eva-xubuntu/anaconda3/lib/python3.6/site-packages/sklearn/externals/joblib/parallel.py\u001b[0m in \u001b[0;36mretrieve\u001b[0;34m(self)\u001b[0m\n\u001b[1;32m    680\u001b[0m                 \u001b[0;31m# check if timeout supported in backend future implementation\u001b[0m\u001b[0;34m\u001b[0m\u001b[0;34m\u001b[0m\u001b[0m\n\u001b[1;32m    681\u001b[0m                 \u001b[0;32mif\u001b[0m \u001b[0;34m'timeout'\u001b[0m \u001b[0;32min\u001b[0m \u001b[0mgetfullargspec\u001b[0m\u001b[0;34m(\u001b[0m\u001b[0mjob\u001b[0m\u001b[0;34m.\u001b[0m\u001b[0mget\u001b[0m\u001b[0;34m)\u001b[0m\u001b[0;34m.\u001b[0m\u001b[0margs\u001b[0m\u001b[0;34m:\u001b[0m\u001b[0;34m\u001b[0m\u001b[0m\n\u001b[0;32m--> 682\u001b[0;31m                     \u001b[0mself\u001b[0m\u001b[0;34m.\u001b[0m\u001b[0m_output\u001b[0m\u001b[0;34m.\u001b[0m\u001b[0mextend\u001b[0m\u001b[0;34m(\u001b[0m\u001b[0mjob\u001b[0m\u001b[0;34m.\u001b[0m\u001b[0mget\u001b[0m\u001b[0;34m(\u001b[0m\u001b[0mtimeout\u001b[0m\u001b[0;34m=\u001b[0m\u001b[0mself\u001b[0m\u001b[0;34m.\u001b[0m\u001b[0mtimeout\u001b[0m\u001b[0;34m)\u001b[0m\u001b[0;34m)\u001b[0m\u001b[0;34m\u001b[0m\u001b[0m\n\u001b[0m\u001b[1;32m    683\u001b[0m                 \u001b[0;32melse\u001b[0m\u001b[0;34m:\u001b[0m\u001b[0;34m\u001b[0m\u001b[0m\n\u001b[1;32m    684\u001b[0m                     \u001b[0mself\u001b[0m\u001b[0;34m.\u001b[0m\u001b[0m_output\u001b[0m\u001b[0;34m.\u001b[0m\u001b[0mextend\u001b[0m\u001b[0;34m(\u001b[0m\u001b[0mjob\u001b[0m\u001b[0;34m.\u001b[0m\u001b[0mget\u001b[0m\u001b[0;34m(\u001b[0m\u001b[0;34m)\u001b[0m\u001b[0;34m)\u001b[0m\u001b[0;34m\u001b[0m\u001b[0m\n",
      "\u001b[0;32m/home/eva-xubuntu/anaconda3/lib/python3.6/multiprocessing/pool.py\u001b[0m in \u001b[0;36mget\u001b[0;34m(self, timeout)\u001b[0m\n\u001b[1;32m    600\u001b[0m \u001b[0;34m\u001b[0m\u001b[0m\n\u001b[1;32m    601\u001b[0m     \u001b[0;32mdef\u001b[0m \u001b[0mget\u001b[0m\u001b[0;34m(\u001b[0m\u001b[0mself\u001b[0m\u001b[0;34m,\u001b[0m \u001b[0mtimeout\u001b[0m\u001b[0;34m=\u001b[0m\u001b[0;32mNone\u001b[0m\u001b[0;34m)\u001b[0m\u001b[0;34m:\u001b[0m\u001b[0;34m\u001b[0m\u001b[0m\n\u001b[0;32m--> 602\u001b[0;31m         \u001b[0mself\u001b[0m\u001b[0;34m.\u001b[0m\u001b[0mwait\u001b[0m\u001b[0;34m(\u001b[0m\u001b[0mtimeout\u001b[0m\u001b[0;34m)\u001b[0m\u001b[0;34m\u001b[0m\u001b[0m\n\u001b[0m\u001b[1;32m    603\u001b[0m         \u001b[0;32mif\u001b[0m \u001b[0;32mnot\u001b[0m \u001b[0mself\u001b[0m\u001b[0;34m.\u001b[0m\u001b[0mready\u001b[0m\u001b[0;34m(\u001b[0m\u001b[0;34m)\u001b[0m\u001b[0;34m:\u001b[0m\u001b[0;34m\u001b[0m\u001b[0m\n\u001b[1;32m    604\u001b[0m             \u001b[0;32mraise\u001b[0m \u001b[0mTimeoutError\u001b[0m\u001b[0;34m\u001b[0m\u001b[0m\n",
      "\u001b[0;32m/home/eva-xubuntu/anaconda3/lib/python3.6/multiprocessing/pool.py\u001b[0m in \u001b[0;36mwait\u001b[0;34m(self, timeout)\u001b[0m\n\u001b[1;32m    597\u001b[0m \u001b[0;34m\u001b[0m\u001b[0m\n\u001b[1;32m    598\u001b[0m     \u001b[0;32mdef\u001b[0m \u001b[0mwait\u001b[0m\u001b[0;34m(\u001b[0m\u001b[0mself\u001b[0m\u001b[0;34m,\u001b[0m \u001b[0mtimeout\u001b[0m\u001b[0;34m=\u001b[0m\u001b[0;32mNone\u001b[0m\u001b[0;34m)\u001b[0m\u001b[0;34m:\u001b[0m\u001b[0;34m\u001b[0m\u001b[0m\n\u001b[0;32m--> 599\u001b[0;31m         \u001b[0mself\u001b[0m\u001b[0;34m.\u001b[0m\u001b[0m_event\u001b[0m\u001b[0;34m.\u001b[0m\u001b[0mwait\u001b[0m\u001b[0;34m(\u001b[0m\u001b[0mtimeout\u001b[0m\u001b[0;34m)\u001b[0m\u001b[0;34m\u001b[0m\u001b[0m\n\u001b[0m\u001b[1;32m    600\u001b[0m \u001b[0;34m\u001b[0m\u001b[0m\n\u001b[1;32m    601\u001b[0m     \u001b[0;32mdef\u001b[0m \u001b[0mget\u001b[0m\u001b[0;34m(\u001b[0m\u001b[0mself\u001b[0m\u001b[0;34m,\u001b[0m \u001b[0mtimeout\u001b[0m\u001b[0;34m=\u001b[0m\u001b[0;32mNone\u001b[0m\u001b[0;34m)\u001b[0m\u001b[0;34m:\u001b[0m\u001b[0;34m\u001b[0m\u001b[0m\n",
      "\u001b[0;32m/home/eva-xubuntu/anaconda3/lib/python3.6/threading.py\u001b[0m in \u001b[0;36mwait\u001b[0;34m(self, timeout)\u001b[0m\n\u001b[1;32m    549\u001b[0m             \u001b[0msignaled\u001b[0m \u001b[0;34m=\u001b[0m \u001b[0mself\u001b[0m\u001b[0;34m.\u001b[0m\u001b[0m_flag\u001b[0m\u001b[0;34m\u001b[0m\u001b[0m\n\u001b[1;32m    550\u001b[0m             \u001b[0;32mif\u001b[0m \u001b[0;32mnot\u001b[0m \u001b[0msignaled\u001b[0m\u001b[0;34m:\u001b[0m\u001b[0;34m\u001b[0m\u001b[0m\n\u001b[0;32m--> 551\u001b[0;31m                 \u001b[0msignaled\u001b[0m \u001b[0;34m=\u001b[0m \u001b[0mself\u001b[0m\u001b[0;34m.\u001b[0m\u001b[0m_cond\u001b[0m\u001b[0;34m.\u001b[0m\u001b[0mwait\u001b[0m\u001b[0;34m(\u001b[0m\u001b[0mtimeout\u001b[0m\u001b[0;34m)\u001b[0m\u001b[0;34m\u001b[0m\u001b[0m\n\u001b[0m\u001b[1;32m    552\u001b[0m             \u001b[0;32mreturn\u001b[0m \u001b[0msignaled\u001b[0m\u001b[0;34m\u001b[0m\u001b[0m\n\u001b[1;32m    553\u001b[0m \u001b[0;34m\u001b[0m\u001b[0m\n",
      "\u001b[0;32m/home/eva-xubuntu/anaconda3/lib/python3.6/threading.py\u001b[0m in \u001b[0;36mwait\u001b[0;34m(self, timeout)\u001b[0m\n\u001b[1;32m    293\u001b[0m         \u001b[0;32mtry\u001b[0m\u001b[0;34m:\u001b[0m    \u001b[0;31m# restore state no matter what (e.g., KeyboardInterrupt)\u001b[0m\u001b[0;34m\u001b[0m\u001b[0m\n\u001b[1;32m    294\u001b[0m             \u001b[0;32mif\u001b[0m \u001b[0mtimeout\u001b[0m \u001b[0;32mis\u001b[0m \u001b[0;32mNone\u001b[0m\u001b[0;34m:\u001b[0m\u001b[0;34m\u001b[0m\u001b[0m\n\u001b[0;32m--> 295\u001b[0;31m                 \u001b[0mwaiter\u001b[0m\u001b[0;34m.\u001b[0m\u001b[0macquire\u001b[0m\u001b[0;34m(\u001b[0m\u001b[0;34m)\u001b[0m\u001b[0;34m\u001b[0m\u001b[0m\n\u001b[0m\u001b[1;32m    296\u001b[0m                 \u001b[0mgotit\u001b[0m \u001b[0;34m=\u001b[0m \u001b[0;32mTrue\u001b[0m\u001b[0;34m\u001b[0m\u001b[0m\n\u001b[1;32m    297\u001b[0m             \u001b[0;32melse\u001b[0m\u001b[0;34m:\u001b[0m\u001b[0;34m\u001b[0m\u001b[0m\n",
      "\u001b[0;31mKeyboardInterrupt\u001b[0m: "
     ]
    }
   ],
   "source": [
    "#optimisation du nombre de voisin par validation croisée\n",
    "essai=3\n",
    "array_erreur=np.empty((essai,1))\n",
    "for i in range (essai):\n",
    "    X_train,X_test,Y_train,Y_test=train_test_split(data,nebsat,test_size=1000)\n",
    "    param=[{\"n_neighbors\":list(range(8,19))}]\n",
    "    tps1 = time.clock()\n",
    "    knn = GridSearchCV(KNeighborsClassifier(),param,cv=5,n_jobs=-1)\n",
    "    digit_knn=knn.fit(X_train, Y_train) \n",
    "    tps2 = time.clock()\n",
    "    array_erreur[i]=1-digit_knn.score(X_test,Y_test)\n",
    "    print(i, \"eme essai\")\n",
    "    print (\"Meilleur paramètre pour n_neigbors :\", digit_knn.best_params_[\"n_neighbors\"])\n",
    "    print(\"Temps de validation croisée pour k-nn :\",(tps2 - tps1)/60)\n",
    "    print(\"Erreur sur échantillon test :\", array_erreur[i])"
   ]
  },
  {
   "cell_type": "markdown",
   "metadata": {},
   "source": [
    "La validation croisée est trop longue à compiler (plus de 10h) donc nous n'avons pas pu la mettre en place. "
   ]
  },
  {
   "cell_type": "code",
   "execution_count": null,
   "metadata": {
    "collapsed": false
   },
   "outputs": [
    {
     "name": "stdout",
     "output_type": "stream",
     "text": [
      "nebsatC  1.0  2.0  3.0  4.0  5.0  6.0\n",
      "row_0                                \n",
      "1.0      177   13   24   60   33   54\n",
      "2.0        0    0    0    1    0    0\n",
      "4.0        8    1    2   10    6   13\n",
      "5.0        1    0    0    0    3    3\n",
      "6.0       36    5   14   57   61  418\n"
     ]
    }
   ],
   "source": [
    "y_chap = knnOpt.predict(X_test)\n",
    "# matrice de confusion\n",
    "table=pd.crosstab(y_chap,Y_test)\n",
    "print(table)"
   ]
  },
  {
   "cell_type": "markdown",
   "metadata": {},
   "source": [
    "# 3 Random Forest "
   ]
  },
  {
   "cell_type": "code",
   "execution_count": null,
   "metadata": {
    "collapsed": true
   },
   "outputs": [],
   "source": [
    "B=3\n",
    "array_erreur=np.empty((B,1))\n",
    "erreur_oob_min=np.empty((B,1))\n",
    "for i in range (B):\n",
    "    X_train,X_test,Y_train,Y_test=train_test_split(data,nebsat,test_size=3000)\n",
    "    erreur_oob=np.zeros(3)\n",
    "    x=np.linspace(600,750,4,dtype=np.int16)\n",
    "    erreur_oob_min[i]=400\n",
    "    indice=0\n",
    "    for j in range(4):\n",
    "        tps0 = time.clock()\n",
    "        rf = RandomForestClassifier(n_estimators=x[j], \n",
    "        criterion='gini', max_depth=None, min_samples_split=2, \n",
    "        min_samples_leaf=1, max_features='auto', max_leaf_nodes=None, \n",
    "        bootstrap=True, oob_score=True, n_jobs=-1,random_state=None, verbose=0)\n",
    "        rf.fit(X_train,Y_train)\n",
    "        erreur_oob[j]=1-rf.oob_score_\n",
    "        print(\"Erreur oob:\", erreur_oob[j],\"pour\",x[j],\"arbres\")\n",
    "        tps1 = time.clock()\n",
    "\n",
    "        print(\"Temps de configuration RF :\" ,tps1 - tps0)\n",
    "        if erreur_oob[j]< erreur_oob_min[i] :\n",
    "            erreur_oob_min[i]=erreur_oob[j]\n",
    "            indice=j\n",
    "            array_erreur[i]=1-rf.score(X_test,Y_test)\n",
    "    print(\"Meilleur nombre d'arbres:\",x[indice])\n",
    " "
   ]
  },
  {
   "cell_type": "code",
   "execution_count": null,
   "metadata": {
    "collapsed": true
   },
   "outputs": [],
   "source": [
    "print (\"Tableau des erreurs\",array_erreur)\n"
   ]
  },
  {
   "cell_type": "code",
   "execution_count": null,
   "metadata": {
    "collapsed": true
   },
   "outputs": [],
   "source": [
    "B=3\n",
    "array_erreur=np.empty((B,1))\n",
    "erreur_oob_min=np.empty((B,1))\n",
    "for i in range (B):\n",
    "    X_train,X_test,Y_train,Y_test=train_test_split(data,nebsat,test_size=3000)\n",
    "    erreur_oob=np.zeros(4)\n",
    "    x=np.linspace(600,750,4,dtype=np.int16)\n",
    "    erreur_oob_min[i]=400\n",
    "    indice=0\n",
    "    for j in range(4):\n",
    "        tps0 = time.clock()\n",
    "        rf = RandomForestRegressor(n_estimators=x[j], \n",
    "        criterion='mse', max_depth=None, min_samples_split=2, \n",
    "        min_samples_leaf=1, max_features='auto', max_leaf_nodes=None, \n",
    "        bootstrap=True, oob_score=True, n_jobs=-1,random_state=None, verbose=0)\n",
    "        rf.fit(X_train,Y_train)\n",
    "        erreur_oob[j]=1-rf.oob_score_\n",
    "        print(\"Erreur oob:\", erreur_oob[j],\"pour\",x[j],\"arbres\")\n",
    "        tps1 = time.clock()\n",
    "\n",
    "        print(\"Temps de configuration RF :\" ,tps1 - tps0)\n",
    "        if erreur_oob[j]< erreur_oob_min[i] :\n",
    "            erreur_oob_min[i]=erreur_oob[j]\n",
    "            indice=j\n",
    "            array_erreur[i]=1-rf.score(X_test,Y_test)\n",
    "    print(\"Meilleur nombre d'arbres:\",x[indice])\n",
    " "
   ]
  },
  {
   "cell_type": "code",
   "execution_count": null,
   "metadata": {
    "collapsed": true
   },
   "outputs": [],
   "source": [
    "print (\"Tableau des erreurs\",array_erreur)"
   ]
  },
  {
   "cell_type": "markdown",
   "metadata": {},
   "source": [
    "# 4 Multi-layer Perceptron Classifier"
   ]
  },
  {
   "cell_type": "code",
   "execution_count": null,
   "metadata": {
    "collapsed": false
   },
   "outputs": [],
   "source": [
    "B=3\n",
    "paramGrid=[{\"hidden_layer_sizes\":list([(400,),(300,)(200,)])}]\n",
    "array_erreur=np.empty((B,1))\n",
    "for i in range (B):\n",
    "    X_train,X_test,Y_train,Y_test=train_test_split(data,nebsat,test_size=1000)\n",
    "    \n",
    "    \n",
    "    \n",
    "    nnet=GridSearchCV(MLPClassifier(max_iter=500),paramGrid,cv=5,n_jobs=-1,refit=True).fit(X_train,Y_train)\n",
    "    print(\"Meilleur score = %f, Meilleur paramètre = %s\" % (1. - nnet.best_score_,nnet.best_params_))\n",
    "   \n",
    "    # code a exécuter pour tester rapidement des valeurs de nos paramètres\n",
    "    \n",
    "    \n",
    "    #nnet=MLPClassifier(hidden_layer_sizes=400)\n",
    "    #neb_nnet=nnet.fit(X_train,Y_train)\n",
    "    #array_erreur[i]=1-neb_nnet.score(X_test,Y_test)\n",
    "\n",
    "    #array_erreur[i]=1-nnet.score(X_test,Y_test)\n",
    "    \n",
    "    \n",
    "    "
   ]
  },
  {
   "cell_type": "code",
   "execution_count": null,
   "metadata": {
    "collapsed": false
   },
   "outputs": [],
   "source": [
    "print (\"Tableau des erreurs\",array_erreur)"
   ]
  },
  {
   "cell_type": "markdown",
   "metadata": {},
   "source": [
    "Test avec activation= logistic"
   ]
  },
  {
   "cell_type": "code",
   "execution_count": null,
   "metadata": {
    "collapsed": false
   },
   "outputs": [],
   "source": [
    "B=3\n",
    "paramGrid=[{\"hidden_layer_sizes\":list([(300,),(400,),(200,)])}]\n",
    "array_erreur=np.empty((B,1))\n",
    "for i in range (B):\n",
    "    X_train,X_test,Y_train,Y_test=train_test_split(data,nebsat,test_size=1000)\n",
    "    \n",
    "    \n",
    "    nnet=GridSearchCV(MLPClassifier(max_iter=500,activation='logistic'),paramGrid,cv=5,n_jobs=-1,refit=True).fit(X_train,Y_train)\n",
    "    print(\"Meilleur score = %f, Meilleur paramètre = %s\" % (1. - nnet.best_score_,nnet.best_params_))\n",
    "    \n",
    "    array_erreur[i]=1-nnet.score(Xnet_test,Y_test)\n",
    "print (\"Tableau des erreurs\",array_erreur)"
   ]
  },
  {
   "cell_type": "code",
   "execution_count": null,
   "metadata": {
    "collapsed": true
   },
   "outputs": [],
   "source": [
    "print (\"Tableau des erreurs\",array_erreur)"
   ]
  },
  {
   "cell_type": "markdown",
   "metadata": {},
   "source": [
    "On change le solver, testant maintenant avec \"adam\"."
   ]
  },
  {
   "cell_type": "code",
   "execution_count": null,
   "metadata": {
    "collapsed": false
   },
   "outputs": [],
   "source": [
    "B=3\n",
    "paramGrid=[{\"hidden_layer_sizes\":list([((160,),(120,),(140),(180,),(200,))])}]\n",
    "array_erreur=np.empty((B,1))\n",
    "for i in range (B):\n",
    "    X_train,X_test,Y_train,Y_test=train_test_split(data,nebsat,test_size=1000)\n",
    "    nnet=GridSearchCV(MLPClassifier(max_iter=500,solver='adam'),paramGrid,cv=5,n_jobs=-1,refit=True)\n",
    "    digit_nnet=nnet.fit(X_train,Y_train)\n",
    "    print(\"Meilleur score = %f, Meilleur paramètre = %s\" % (1. - nnet.best_score_,nnet.best_params_))\n",
    "    \n",
    "    array_erreur[i]=1-digit_nnet.score(X_test,Y_test)\n",
    "\n",
    "print (\"Tableau des erreurs\",array_erreur)"
   ]
  },
  {
   "cell_type": "code",
   "execution_count": null,
   "metadata": {
    "collapsed": false
   },
   "outputs": [],
   "source": [
    "B=3\n",
    "paramGrid=[{\"hidden_layer_sizes\":list([((100,),(200,),(300,))])}]\n",
    "array_erreur=np.empty((B,1))\n",
    "for i in range (B):\n",
    "    X_train,X_test,Y_train,Y_test=train_test_split(data,nebsat,test_size=1000)\n",
    "    nnet=GridSearchCV(MLPRegressor(max_iter=500),paramGrid,cv=5,refit=True).fit(X_train,Y_train)\n",
    "    digit_nnet=nnet.fit(X_train,Y_train)\n",
    "    print(\"Meilleur score = %f, Meilleur paramètre = %s\" % (1. - nnet.best_score_,nnet.best_params_))\n",
    "    \n",
    "    array_erreur[i]=1-digit_nnet.score(X_test,Y_test)\n",
    "\n",
    "print (\"Tableau des erreurs\",array_erreur)"
   ]
  },
  {
   "cell_type": "code",
   "execution_count": 20,
   "metadata": {
    "collapsed": false
   },
   "outputs": [
    {
     "name": "stdout",
     "output_type": "stream",
     "text": [
      "0.406774734765\n"
     ]
    }
   ],
   "source": [
    " X_train,X_test,Y_train,Y_test=train_test_split(data,nebsat,test_size=1000)\n",
    "nnet=MLPRegressor(hidden_layer_sizes=400)\n",
    "digit_nnet=nnet.fit(X_train,Y_train)\n",
    "print (1-digit_nnet.score(X_test,Y_test))"
   ]
  },
  {
   "cell_type": "code",
   "execution_count": null,
   "metadata": {
    "collapsed": true
   },
   "outputs": [],
   "source": []
  }
 ],
 "metadata": {
  "kernelspec": {
   "display_name": "Python 2",
   "language": "python",
   "name": "python2"
  },
  "language_info": {
   "codemirror_mode": {
    "name": "ipython",
    "version": 2
   },
   "file_extension": ".py",
   "mimetype": "text/x-python",
   "name": "python",
   "nbconvert_exporter": "python",
   "pygments_lexer": "ipython2",
   "version": "2.7.11"
  }
 },
 "nbformat": 4,
 "nbformat_minor": 1
}
